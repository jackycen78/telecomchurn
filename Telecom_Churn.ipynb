{
  "nbformat": 4,
  "nbformat_minor": 0,
  "metadata": {
    "colab": {
      "name": "Telecom Churn.ipynb",
      "provenance": []
    },
    "kernelspec": {
      "name": "python3",
      "display_name": "Python 3"
    }
  },
  "cells": [
    {
      "cell_type": "markdown",
      "metadata": {
        "id": "3ajJ7ZnC3nOY"
      },
      "source": [
        "# Telecom Customer Churn\n",
        "\n",
        "This data is taken from [kaggle](https://www.kaggle.com/blastchar/telco-customer-churn) and contains various telecom customer information. My goal is to predict the behaviour of customers in terms of churning by analyzing the relevant customer data. This is a binary classification task, which I will use NN's and SVM to accomplish the task."
      ]
    },
    {
      "cell_type": "code",
      "metadata": {
        "id": "X3uNVFswlQSR"
      },
      "source": [
        "import numpy as np\n",
        "import pandas as pd\n",
        "import matplotlib.pyplot as plt\n",
        "import seaborn as sns\n",
        "from sklearn.model_selection import train_test_split\n",
        "from sklearn.svm import SVC\n",
        "from sklearn.metrics import accuracy_score\n",
        "from sklearn.metrics import roc_auc_score\n",
        "import tensorflow\n",
        "from tensorflow.keras.layers import Dense\n",
        "from tensorflow.keras.models import Sequential\n",
        "from sklearn.model_selection import GridSearchCV "
      ],
      "execution_count": 23,
      "outputs": []
    },
    {
      "cell_type": "markdown",
      "metadata": {
        "id": "0QMxs4gWkD98"
      },
      "source": [
        "## Data Exploration"
      ]
    },
    {
      "cell_type": "code",
      "metadata": {
        "id": "8hlc9Jlhlu5x",
        "colab": {
          "base_uri": "https://localhost:8080/",
          "height": 204
        },
        "outputId": "b20afa5c-f23b-4271-bac4-f1e0436e5046"
      },
      "source": [
        "orig_df = pd.read_csv(\"telecom_churn.csv\")\n",
        "orig_df.head()"
      ],
      "execution_count": 24,
      "outputs": [
        {
          "output_type": "execute_result",
          "data": {
            "text/html": [
              "<div>\n",
              "<style scoped>\n",
              "    .dataframe tbody tr th:only-of-type {\n",
              "        vertical-align: middle;\n",
              "    }\n",
              "\n",
              "    .dataframe tbody tr th {\n",
              "        vertical-align: top;\n",
              "    }\n",
              "\n",
              "    .dataframe thead th {\n",
              "        text-align: right;\n",
              "    }\n",
              "</style>\n",
              "<table border=\"1\" class=\"dataframe\">\n",
              "  <thead>\n",
              "    <tr style=\"text-align: right;\">\n",
              "      <th></th>\n",
              "      <th>customerID</th>\n",
              "      <th>gender</th>\n",
              "      <th>SeniorCitizen</th>\n",
              "      <th>Partner</th>\n",
              "      <th>Dependents</th>\n",
              "      <th>tenure</th>\n",
              "      <th>PhoneService</th>\n",
              "      <th>MultipleLines</th>\n",
              "      <th>InternetService</th>\n",
              "      <th>OnlineSecurity</th>\n",
              "      <th>OnlineBackup</th>\n",
              "      <th>DeviceProtection</th>\n",
              "      <th>TechSupport</th>\n",
              "      <th>StreamingTV</th>\n",
              "      <th>StreamingMovies</th>\n",
              "      <th>Contract</th>\n",
              "      <th>PaperlessBilling</th>\n",
              "      <th>PaymentMethod</th>\n",
              "      <th>MonthlyCharges</th>\n",
              "      <th>TotalCharges</th>\n",
              "      <th>Churn</th>\n",
              "    </tr>\n",
              "  </thead>\n",
              "  <tbody>\n",
              "    <tr>\n",
              "      <th>0</th>\n",
              "      <td>7590-VHVEG</td>\n",
              "      <td>Female</td>\n",
              "      <td>0</td>\n",
              "      <td>Yes</td>\n",
              "      <td>No</td>\n",
              "      <td>1</td>\n",
              "      <td>No</td>\n",
              "      <td>No phone service</td>\n",
              "      <td>DSL</td>\n",
              "      <td>No</td>\n",
              "      <td>Yes</td>\n",
              "      <td>No</td>\n",
              "      <td>No</td>\n",
              "      <td>No</td>\n",
              "      <td>No</td>\n",
              "      <td>Month-to-month</td>\n",
              "      <td>Yes</td>\n",
              "      <td>Electronic check</td>\n",
              "      <td>29.85</td>\n",
              "      <td>29.85</td>\n",
              "      <td>No</td>\n",
              "    </tr>\n",
              "    <tr>\n",
              "      <th>1</th>\n",
              "      <td>5575-GNVDE</td>\n",
              "      <td>Male</td>\n",
              "      <td>0</td>\n",
              "      <td>No</td>\n",
              "      <td>No</td>\n",
              "      <td>34</td>\n",
              "      <td>Yes</td>\n",
              "      <td>No</td>\n",
              "      <td>DSL</td>\n",
              "      <td>Yes</td>\n",
              "      <td>No</td>\n",
              "      <td>Yes</td>\n",
              "      <td>No</td>\n",
              "      <td>No</td>\n",
              "      <td>No</td>\n",
              "      <td>One year</td>\n",
              "      <td>No</td>\n",
              "      <td>Mailed check</td>\n",
              "      <td>56.95</td>\n",
              "      <td>1889.5</td>\n",
              "      <td>No</td>\n",
              "    </tr>\n",
              "    <tr>\n",
              "      <th>2</th>\n",
              "      <td>3668-QPYBK</td>\n",
              "      <td>Male</td>\n",
              "      <td>0</td>\n",
              "      <td>No</td>\n",
              "      <td>No</td>\n",
              "      <td>2</td>\n",
              "      <td>Yes</td>\n",
              "      <td>No</td>\n",
              "      <td>DSL</td>\n",
              "      <td>Yes</td>\n",
              "      <td>Yes</td>\n",
              "      <td>No</td>\n",
              "      <td>No</td>\n",
              "      <td>No</td>\n",
              "      <td>No</td>\n",
              "      <td>Month-to-month</td>\n",
              "      <td>Yes</td>\n",
              "      <td>Mailed check</td>\n",
              "      <td>53.85</td>\n",
              "      <td>108.15</td>\n",
              "      <td>Yes</td>\n",
              "    </tr>\n",
              "    <tr>\n",
              "      <th>3</th>\n",
              "      <td>7795-CFOCW</td>\n",
              "      <td>Male</td>\n",
              "      <td>0</td>\n",
              "      <td>No</td>\n",
              "      <td>No</td>\n",
              "      <td>45</td>\n",
              "      <td>No</td>\n",
              "      <td>No phone service</td>\n",
              "      <td>DSL</td>\n",
              "      <td>Yes</td>\n",
              "      <td>No</td>\n",
              "      <td>Yes</td>\n",
              "      <td>Yes</td>\n",
              "      <td>No</td>\n",
              "      <td>No</td>\n",
              "      <td>One year</td>\n",
              "      <td>No</td>\n",
              "      <td>Bank transfer (automatic)</td>\n",
              "      <td>42.30</td>\n",
              "      <td>1840.75</td>\n",
              "      <td>No</td>\n",
              "    </tr>\n",
              "    <tr>\n",
              "      <th>4</th>\n",
              "      <td>9237-HQITU</td>\n",
              "      <td>Female</td>\n",
              "      <td>0</td>\n",
              "      <td>No</td>\n",
              "      <td>No</td>\n",
              "      <td>2</td>\n",
              "      <td>Yes</td>\n",
              "      <td>No</td>\n",
              "      <td>Fiber optic</td>\n",
              "      <td>No</td>\n",
              "      <td>No</td>\n",
              "      <td>No</td>\n",
              "      <td>No</td>\n",
              "      <td>No</td>\n",
              "      <td>No</td>\n",
              "      <td>Month-to-month</td>\n",
              "      <td>Yes</td>\n",
              "      <td>Electronic check</td>\n",
              "      <td>70.70</td>\n",
              "      <td>151.65</td>\n",
              "      <td>Yes</td>\n",
              "    </tr>\n",
              "  </tbody>\n",
              "</table>\n",
              "</div>"
            ],
            "text/plain": [
              "   customerID  gender  SeniorCitizen  ... MonthlyCharges TotalCharges  Churn\n",
              "0  7590-VHVEG  Female              0  ...          29.85        29.85     No\n",
              "1  5575-GNVDE    Male              0  ...          56.95       1889.5     No\n",
              "2  3668-QPYBK    Male              0  ...          53.85       108.15    Yes\n",
              "3  7795-CFOCW    Male              0  ...          42.30      1840.75     No\n",
              "4  9237-HQITU  Female              0  ...          70.70       151.65    Yes\n",
              "\n",
              "[5 rows x 21 columns]"
            ]
          },
          "metadata": {
            "tags": []
          },
          "execution_count": 24
        }
      ]
    },
    {
      "cell_type": "code",
      "metadata": {
        "colab": {
          "base_uri": "https://localhost:8080/"
        },
        "id": "b7teUhngmSAr",
        "outputId": "61974225-4576-4cf7-b772-aec7309ffc8b"
      },
      "source": [
        "print(\"The shape of the dataset is:\", orig_df.shape)"
      ],
      "execution_count": 25,
      "outputs": [
        {
          "output_type": "stream",
          "text": [
            "The shape of the dataset is: (7043, 21)\n"
          ],
          "name": "stdout"
        }
      ]
    },
    {
      "cell_type": "markdown",
      "metadata": {
        "id": "kckVaWX_Vt8M"
      },
      "source": [
        "Checking for null values and data types:"
      ]
    },
    {
      "cell_type": "code",
      "metadata": {
        "colab": {
          "base_uri": "https://localhost:8080/"
        },
        "id": "sCMs4SNunIkS",
        "outputId": "dcb9626a-0b8e-4b5b-c85c-167dd3c88c24"
      },
      "source": [
        "orig_df.isna().sum()"
      ],
      "execution_count": 26,
      "outputs": [
        {
          "output_type": "execute_result",
          "data": {
            "text/plain": [
              "customerID          0\n",
              "gender              0\n",
              "SeniorCitizen       0\n",
              "Partner             0\n",
              "Dependents          0\n",
              "tenure              0\n",
              "PhoneService        0\n",
              "MultipleLines       0\n",
              "InternetService     0\n",
              "OnlineSecurity      0\n",
              "OnlineBackup        0\n",
              "DeviceProtection    0\n",
              "TechSupport         0\n",
              "StreamingTV         0\n",
              "StreamingMovies     0\n",
              "Contract            0\n",
              "PaperlessBilling    0\n",
              "PaymentMethod       0\n",
              "MonthlyCharges      0\n",
              "TotalCharges        0\n",
              "Churn               0\n",
              "dtype: int64"
            ]
          },
          "metadata": {
            "tags": []
          },
          "execution_count": 26
        }
      ]
    },
    {
      "cell_type": "code",
      "metadata": {
        "colab": {
          "base_uri": "https://localhost:8080/"
        },
        "id": "jCAqBqu6kNVw",
        "outputId": "8601061b-94b4-426d-d384-393612d01f13"
      },
      "source": [
        "orig_df.info()"
      ],
      "execution_count": 27,
      "outputs": [
        {
          "output_type": "stream",
          "text": [
            "<class 'pandas.core.frame.DataFrame'>\n",
            "RangeIndex: 7043 entries, 0 to 7042\n",
            "Data columns (total 21 columns):\n",
            " #   Column            Non-Null Count  Dtype  \n",
            "---  ------            --------------  -----  \n",
            " 0   customerID        7043 non-null   object \n",
            " 1   gender            7043 non-null   object \n",
            " 2   SeniorCitizen     7043 non-null   int64  \n",
            " 3   Partner           7043 non-null   object \n",
            " 4   Dependents        7043 non-null   object \n",
            " 5   tenure            7043 non-null   int64  \n",
            " 6   PhoneService      7043 non-null   object \n",
            " 7   MultipleLines     7043 non-null   object \n",
            " 8   InternetService   7043 non-null   object \n",
            " 9   OnlineSecurity    7043 non-null   object \n",
            " 10  OnlineBackup      7043 non-null   object \n",
            " 11  DeviceProtection  7043 non-null   object \n",
            " 12  TechSupport       7043 non-null   object \n",
            " 13  StreamingTV       7043 non-null   object \n",
            " 14  StreamingMovies   7043 non-null   object \n",
            " 15  Contract          7043 non-null   object \n",
            " 16  PaperlessBilling  7043 non-null   object \n",
            " 17  PaymentMethod     7043 non-null   object \n",
            " 18  MonthlyCharges    7043 non-null   float64\n",
            " 19  TotalCharges      7043 non-null   object \n",
            " 20  Churn             7043 non-null   object \n",
            "dtypes: float64(1), int64(2), object(18)\n",
            "memory usage: 1.1+ MB\n"
          ],
          "name": "stdout"
        }
      ]
    },
    {
      "cell_type": "markdown",
      "metadata": {
        "id": "ubOzpEv2XPZN"
      },
      "source": [
        "## Data Cleaning\n",
        "\n",
        "Since 'customerID' is just an unique identifier for the customer and is not indictative of churn, I will drop it. I will also change each feature to their respective types, i.e categorical or numerical. 'TotalCharges' has empty string values, so I will replace it with the mean of 'TotalCharges'."
      ]
    },
    {
      "cell_type": "code",
      "metadata": {
        "id": "D3tFKObW0lP_"
      },
      "source": [
        "orig_df.drop('customerID', axis = 1, inplace=True)\n",
        "orig_df['TotalCharges'] = orig_df['TotalCharges'].replace(' ', 0)\n",
        "\n",
        "cat_cols = orig_df.drop(['tenure', 'MonthlyCharges', 'TotalCharges'], axis=1).columns\n",
        "cont_cols = ['tenure', 'MonthlyCharges', 'TotalCharges'] \n",
        "\n",
        "orig_df[cat_cols] = orig_df[cat_cols].astype('category')\n",
        "orig_df[cont_cols] = orig_df[cont_cols].apply(pd.to_numeric)\n",
        "\n",
        "orig_df['TotalCharges'] = orig_df['TotalCharges'].replace(0, orig_df['TotalCharges'].mean())"
      ],
      "execution_count": 28,
      "outputs": []
    },
    {
      "cell_type": "markdown",
      "metadata": {
        "id": "lkaNOGluTlIL"
      },
      "source": [
        "## Data visualization\n",
        "\n",
        "To understand the distribution of each feature, I will plot count bars for each feature, seperated by churn for categorical features. For continous features, I will plot boxplots seperated by churn."
      ]
    },
    {
      "cell_type": "code",
      "metadata": {
        "colab": {
          "base_uri": "https://localhost:8080/",
          "height": 1000
        },
        "id": "veoGWG7d6cOz",
        "outputId": "41d166d5-2e42-4aa4-9fd0-0a0794b5ed58"
      },
      "source": [
        "width = 4\n",
        "height = 5\n",
        "\n",
        "fig, ax = plt.subplots(height, width)\n",
        "fig.subplots_adjust(bottom = 0, top = height - 1, \n",
        "                    left = 0, right = width - 1 )\n",
        "\n",
        "n = 0\n",
        "m = 0\n",
        "for col in cat_cols:\n",
        "  fig = sns.countplot(x=orig_df[col], hue= orig_df[\"Churn\"], ax = ax[n][m])\n",
        "  if m == width - 1:\n",
        "    m = 0\n",
        "    n += 1\n",
        "  else:\n",
        "    m += 1\n",
        "\n",
        "for col in cont_cols:\n",
        "  fig = sns.boxplot(y=orig_df[col], x=orig_df['Churn'], ax = ax[n][m])\n",
        "  if m == width - 1:\n",
        "    m = 0\n",
        "    n += 1\n",
        "  else:\n",
        "    m += 1"
      ],
      "execution_count": 29,
      "outputs": [
        {
          "output_type": "display_data",
          "data": {
            "image/png": "[encoded data removed]",
            "text/plain": [
              "<Figure size 432x288 with 20 Axes>"
            ]
          },
          "metadata": {
            "tags": [],
            "needs_background": "light"
          }
        }
      ]
    },
    {
      "cell_type": "code",
      "metadata": {
        "colab": {
          "base_uri": "https://localhost:8080/",
          "height": 735
        },
        "id": "ayg7924sqCGd",
        "outputId": "97db4864-774c-40f5-c556-9a1eb381f47d"
      },
      "source": [
        "corr = orig_df.corr()\n",
        "fig, ax = plt.subplots(figsize=(15, 15))\n",
        "mask = np.triu(np.ones_like(corr, dtype=bool))\n",
        "\n",
        "cmap = sns.diverging_palette(230, 20, as_cmap=True)\n",
        "sns.heatmap(corr, mask=mask, cmap=cmap, center=0, square=True, linewidths=.5, cbar_kws={\"shrink\": .5})"
      ],
      "execution_count": 30,
      "outputs": [
        {
          "output_type": "execute_result",
          "data": {
            "text/plain": [
              "<matplotlib.axes._subplots.AxesSubplot at 0x7f2dc7fc0710>"
            ]
          },
          "metadata": {
            "tags": []
          },
          "execution_count": 30
        },
        {
          "output_type": "display_data",
          "data": {
            "image/png": "[encoded data removed]",
            "text/plain": [
              "<Figure size 1080x1080 with 2 Axes>"
            ]
          },
          "metadata": {
            "tags": [],
            "needs_background": "light"
          }
        }
      ]
    },
    {
      "cell_type": "markdown",
      "metadata": {
        "id": "Ze6Y15Axq1tx"
      },
      "source": [
        "From this correlation chart, it is clear that TotalCharges and tenure are highly correlated, which makes sense given that a customer that stays longer is more likely to pay more in total. We also can observe that having fiber optic internet service correpsonds to higher monthly charges, while having no internet at all lowers the monthly charges."
      ]
    },
    {
      "cell_type": "markdown",
      "metadata": {
        "id": "tZvrRiY8bprD"
      },
      "source": [
        "## Feature Preprocessing"
      ]
    },
    {
      "cell_type": "markdown",
      "metadata": {
        "id": "JWRfoHyTNi8O"
      },
      "source": [
        "For categorical variables with binary categories, I will encodes it as 0 or 1. Some feature like 'OnlineSecurity' have values like No, Yes and No internet service. Rather than one-hot encoding these features, I will categorize No internet service as no. This is because significantly extra dimensionality would be introduced if I didn't do so, which would hurt the model performance, especially with the low amount of data we have."
      ]
    },
    {
      "cell_type": "code",
      "metadata": {
        "id": "_n_MH8D52a2l"
      },
      "source": [
        "change_cols = ['OnlineSecurity', 'OnlineBackup', 'DeviceProtection', \n",
        "        'TechSupport', 'StreamingTV', 'StreamingMovies']\n",
        "\n",
        "orig_df[change_cols] = orig_df[change_cols].replace('No internet service', 'No')\n",
        "orig_df['MultipleLines'] = orig_df['MultipleLines'].replace('No phone service', 'No')\n",
        "\n",
        "\n",
        "bin_cat_cols = ['MultipleLines', 'gender', 'SeniorCitizen', 'Partner', \n",
        "                'Dependents', 'PhoneService', 'PaperlessBilling', 'Churn'] + change_cols\n",
        "\n",
        "orig_df[bin_cat_cols] = orig_df[bin_cat_cols].apply(lambda x: x.cat.codes)\n"
      ],
      "execution_count": 31,
      "outputs": []
    },
    {
      "cell_type": "markdown",
      "metadata": {
        "id": "_SQ6F-4cOIi4"
      },
      "source": [
        "For categorical variables with 3 or more categories, I will one hot encode them."
      ]
    },
    {
      "cell_type": "code",
      "metadata": {
        "id": "NdndUiSpoeAb"
      },
      "source": [
        "multi_cat_cols = ['InternetService', 'Contract', 'PaymentMethod']\n",
        "orig_df = pd.get_dummies(orig_df, columns=multi_cat_cols)"
      ],
      "execution_count": 32,
      "outputs": []
    },
    {
      "cell_type": "markdown",
      "metadata": {
        "id": "7zDlFX74QeFG"
      },
      "source": [
        "For the continuous variables, I will normalize them."
      ]
    },
    {
      "cell_type": "code",
      "metadata": {
        "id": "Cv8tbjVqOiv3"
      },
      "source": [
        "continuous_cols = orig_df[cont_cols]\n",
        "orig_df[cont_cols] = (continuous_cols - continuous_cols.mean())/continuous_cols.std()"
      ],
      "execution_count": 33,
      "outputs": []
    },
    {
      "cell_type": "markdown",
      "metadata": {
        "id": "c1FlbMS8OSns"
      },
      "source": [
        "The new shape of the dataset is:"
      ]
    },
    {
      "cell_type": "code",
      "metadata": {
        "colab": {
          "base_uri": "https://localhost:8080/"
        },
        "id": "Tn-hQ6VH039D",
        "outputId": "5226e40f-e6d9-4dcc-bcb7-17d444af4660"
      },
      "source": [
        "print(\"The shape of the dataset is\", orig_df.shape)"
      ],
      "execution_count": 34,
      "outputs": [
        {
          "output_type": "stream",
          "text": [
            "The shape of the dataset is (7043, 27)\n"
          ],
          "name": "stdout"
        }
      ]
    },
    {
      "cell_type": "code",
      "metadata": {
        "colab": {
          "base_uri": "https://localhost:8080/"
        },
        "id": "5DFVDs2bQST1",
        "outputId": "72976b1e-2ff9-4664-d687-07c6431576d7"
      },
      "source": [
        "X = orig_df.drop(['Churn'], axis = 1)\n",
        "Y = orig_df['Churn']\n",
        "\n",
        "X_train, X_test, Y_train, Y_test = train_test_split(X, Y, test_size=0.20)\n",
        "\n",
        "print(\"The shape of X_train is:\", X_train.shape)\n",
        "print(\"The shape of Y_train is:\", Y_train.shape)\n",
        "print(\"The shape of X_test is:\", X_test.shape)\n",
        "print(\"The shape of Y_test is:\", Y_test.shape)"
      ],
      "execution_count": 35,
      "outputs": [
        {
          "output_type": "stream",
          "text": [
            "The shape of X_train is: (5634, 26)\n",
            "The shape of Y_train is: (5634,)\n",
            "The shape of X_test is: (1409, 26)\n",
            "The shape of Y_test is: (1409,)\n"
          ],
          "name": "stdout"
        }
      ]
    },
    {
      "cell_type": "markdown",
      "metadata": {
        "id": "CEznyaj8sPn3"
      },
      "source": [
        "## Neural Network\n",
        "\n",
        "For this problem, I will be using a fully connected, 5 hidden layer neural network. The specific architecture are as follows:\n",
        "\n",
        "- First layer: 64 units, relu activation\n",
        "- Second layer: 32 units, relu activation\n",
        "- Third layer: 16 units, relu activation\n",
        "- Fourth layer: 8 units, relu activation\n",
        "- Fifth layer: 1 unit, sigmoid activation\n",
        "\n",
        "I will be using adam optimizer, with loss binary cross entropy. The class 'Churn' will also be weighted to account for the extra "
      ]
    },
    {
      "cell_type": "code",
      "metadata": {
        "id": "bw5ko6lsgOBn"
      },
      "source": [
        "nn_model = Sequential([\n",
        "        Dense(64, activation='relu', input_shape=(X_train.shape[1],)),\n",
        "        Dense(32, activation='relu'),\n",
        "        Dense(16, activation='relu'),\n",
        "        Dense(8, activation='relu'),\n",
        "        Dense(1, activation='sigmoid')\n",
        "])"
      ],
      "execution_count": 36,
      "outputs": []
    },
    {
      "cell_type": "code",
      "metadata": {
        "id": "HhptNTq7nQDk"
      },
      "source": [
        "nn_model.compile(optimizer='adam', loss='binary_crossentropy', metrics=['accuracy', 'AUC'])"
      ],
      "execution_count": 37,
      "outputs": []
    },
    {
      "cell_type": "code",
      "metadata": {
        "colab": {
          "base_uri": "https://localhost:8080/"
        },
        "id": "_ENAvXlrndmf",
        "outputId": "c3b1a204-9eb0-4a82-9f97-cfc754799c15"
      },
      "source": [
        "nn_model.fit(X_train, Y_train, class_weight= {0:1, 1:3}, epochs = 100, batch_size=32)"
      ],
      "execution_count": 38,
      "outputs": [
        {
          "output_type": "stream",
          "text": [
            "Epoch 1/100\n",
            "177/177 [==============================] - 1s 2ms/step - loss: 0.8871 - accuracy: 0.6924 - auc: 0.7786\n",
            "Epoch 2/100\n",
            "177/177 [==============================] - 0s 2ms/step - loss: 0.7307 - accuracy: 0.7496 - auc: 0.8509\n",
            "Epoch 3/100\n",
            "177/177 [==============================] - 0s 2ms/step - loss: 0.7267 - accuracy: 0.7439 - auc: 0.8464\n",
            "Epoch 4/100\n",
            "177/177 [==============================] - 0s 2ms/step - loss: 0.7416 - accuracy: 0.7323 - auc: 0.8410\n",
            "Epoch 5/100\n",
            "177/177 [==============================] - 0s 2ms/step - loss: 0.7166 - accuracy: 0.7399 - auc: 0.8530\n",
            "Epoch 6/100\n",
            "177/177 [==============================] - 0s 2ms/step - loss: 0.6985 - accuracy: 0.7560 - auc: 0.8555\n",
            "Epoch 7/100\n",
            "177/177 [==============================] - 0s 2ms/step - loss: 0.7254 - accuracy: 0.7443 - auc: 0.8513\n",
            "Epoch 8/100\n",
            "177/177 [==============================] - 0s 2ms/step - loss: 0.7036 - accuracy: 0.7525 - auc: 0.8628\n",
            "Epoch 9/100\n",
            "177/177 [==============================] - 0s 2ms/step - loss: 0.7187 - accuracy: 0.7439 - auc: 0.8546\n",
            "Epoch 10/100\n",
            "177/177 [==============================] - 0s 2ms/step - loss: 0.7238 - accuracy: 0.7527 - auc: 0.8569\n",
            "Epoch 11/100\n",
            "177/177 [==============================] - 0s 2ms/step - loss: 0.7124 - accuracy: 0.7537 - auc: 0.8570\n",
            "Epoch 12/100\n",
            "177/177 [==============================] - 0s 2ms/step - loss: 0.6772 - accuracy: 0.7644 - auc: 0.8688\n",
            "Epoch 13/100\n",
            "177/177 [==============================] - 0s 2ms/step - loss: 0.6949 - accuracy: 0.7475 - auc: 0.8692\n",
            "Epoch 14/100\n",
            "177/177 [==============================] - 0s 2ms/step - loss: 0.6878 - accuracy: 0.7698 - auc: 0.8667\n",
            "Epoch 15/100\n",
            "177/177 [==============================] - 0s 2ms/step - loss: 0.6409 - accuracy: 0.7820 - auc: 0.8833\n",
            "Epoch 16/100\n",
            "177/177 [==============================] - 0s 2ms/step - loss: 0.6819 - accuracy: 0.7591 - auc: 0.8694\n",
            "Epoch 17/100\n",
            "177/177 [==============================] - 0s 2ms/step - loss: 0.6497 - accuracy: 0.7844 - auc: 0.8834\n",
            "Epoch 18/100\n",
            "177/177 [==============================] - 0s 2ms/step - loss: 0.6687 - accuracy: 0.7743 - auc: 0.8736\n",
            "Epoch 19/100\n",
            "177/177 [==============================] - 0s 2ms/step - loss: 0.6405 - accuracy: 0.7835 - auc: 0.8844\n",
            "Epoch 20/100\n",
            "177/177 [==============================] - 0s 2ms/step - loss: 0.6546 - accuracy: 0.7814 - auc: 0.8825\n",
            "Epoch 21/100\n",
            "177/177 [==============================] - 0s 2ms/step - loss: 0.6269 - accuracy: 0.7786 - auc: 0.8853\n",
            "Epoch 22/100\n",
            "177/177 [==============================] - 0s 2ms/step - loss: 0.6179 - accuracy: 0.7971 - auc: 0.8934\n",
            "Epoch 23/100\n",
            "177/177 [==============================] - 0s 2ms/step - loss: 0.5985 - accuracy: 0.7980 - auc: 0.8986\n",
            "Epoch 24/100\n",
            "177/177 [==============================] - 0s 2ms/step - loss: 0.6190 - accuracy: 0.7824 - auc: 0.8887\n",
            "Epoch 25/100\n",
            "177/177 [==============================] - 0s 2ms/step - loss: 0.6036 - accuracy: 0.8031 - auc: 0.8975\n",
            "Epoch 26/100\n",
            "177/177 [==============================] - 0s 2ms/step - loss: 0.6341 - accuracy: 0.7706 - auc: 0.8860\n",
            "Epoch 27/100\n",
            "177/177 [==============================] - 0s 2ms/step - loss: 0.5972 - accuracy: 0.8055 - auc: 0.8969\n",
            "Epoch 28/100\n",
            "177/177 [==============================] - 0s 2ms/step - loss: 0.5757 - accuracy: 0.8101 - auc: 0.9042\n",
            "Epoch 29/100\n",
            "177/177 [==============================] - 0s 2ms/step - loss: 0.5656 - accuracy: 0.8125 - auc: 0.9083\n",
            "Epoch 30/100\n",
            "177/177 [==============================] - 0s 2ms/step - loss: 0.5730 - accuracy: 0.8026 - auc: 0.9039\n",
            "Epoch 31/100\n",
            "177/177 [==============================] - 0s 2ms/step - loss: 0.5546 - accuracy: 0.8143 - auc: 0.9088\n",
            "Epoch 32/100\n",
            "177/177 [==============================] - 0s 2ms/step - loss: 0.5522 - accuracy: 0.8148 - auc: 0.9103\n",
            "Epoch 33/100\n",
            "177/177 [==============================] - 0s 2ms/step - loss: 0.5578 - accuracy: 0.8144 - auc: 0.9101\n",
            "Epoch 34/100\n",
            "177/177 [==============================] - 0s 2ms/step - loss: 0.5350 - accuracy: 0.8196 - auc: 0.9154\n",
            "Epoch 35/100\n",
            "177/177 [==============================] - 0s 2ms/step - loss: 0.5358 - accuracy: 0.8150 - auc: 0.9146\n",
            "Epoch 36/100\n",
            "177/177 [==============================] - 0s 2ms/step - loss: 0.5244 - accuracy: 0.8294 - auc: 0.9186\n",
            "Epoch 37/100\n",
            "177/177 [==============================] - 0s 2ms/step - loss: 0.5335 - accuracy: 0.8137 - auc: 0.9156\n",
            "Epoch 38/100\n",
            "177/177 [==============================] - 0s 2ms/step - loss: 0.5068 - accuracy: 0.8358 - auc: 0.9236\n",
            "Epoch 39/100\n",
            "177/177 [==============================] - 0s 2ms/step - loss: 0.5080 - accuracy: 0.8269 - auc: 0.9230\n",
            "Epoch 40/100\n",
            "177/177 [==============================] - 0s 2ms/step - loss: 0.4883 - accuracy: 0.8341 - auc: 0.9285\n",
            "Epoch 41/100\n",
            "177/177 [==============================] - 0s 2ms/step - loss: 0.4871 - accuracy: 0.8398 - auc: 0.9292\n",
            "Epoch 42/100\n",
            "177/177 [==============================] - 0s 2ms/step - loss: 0.4710 - accuracy: 0.8452 - auc: 0.9317\n",
            "Epoch 43/100\n",
            "177/177 [==============================] - 0s 2ms/step - loss: 0.4861 - accuracy: 0.8321 - auc: 0.9284\n",
            "Epoch 44/100\n",
            "177/177 [==============================] - 0s 2ms/step - loss: 0.4765 - accuracy: 0.8396 - auc: 0.9321\n",
            "Epoch 45/100\n",
            "177/177 [==============================] - 0s 2ms/step - loss: 0.5065 - accuracy: 0.8228 - auc: 0.9209\n",
            "Epoch 46/100\n",
            "177/177 [==============================] - 0s 2ms/step - loss: 0.4664 - accuracy: 0.8411 - auc: 0.9321\n",
            "Epoch 47/100\n",
            "177/177 [==============================] - 0s 2ms/step - loss: 0.4637 - accuracy: 0.8446 - auc: 0.9339\n",
            "Epoch 48/100\n",
            "177/177 [==============================] - 0s 2ms/step - loss: 0.4799 - accuracy: 0.8363 - auc: 0.9286\n",
            "Epoch 49/100\n",
            "177/177 [==============================] - 0s 2ms/step - loss: 0.4799 - accuracy: 0.8336 - auc: 0.9277\n",
            "Epoch 50/100\n",
            "177/177 [==============================] - 0s 2ms/step - loss: 0.4465 - accuracy: 0.8533 - auc: 0.9387\n",
            "Epoch 51/100\n",
            "177/177 [==============================] - 0s 2ms/step - loss: 0.4682 - accuracy: 0.8328 - auc: 0.9340\n",
            "Epoch 52/100\n",
            "177/177 [==============================] - 0s 2ms/step - loss: 0.4335 - accuracy: 0.8545 - auc: 0.9408\n",
            "Epoch 53/100\n",
            "177/177 [==============================] - 0s 2ms/step - loss: 0.4306 - accuracy: 0.8592 - auc: 0.9412\n",
            "Epoch 54/100\n",
            "177/177 [==============================] - 0s 2ms/step - loss: 0.4119 - accuracy: 0.8673 - auc: 0.9459\n",
            "Epoch 55/100\n",
            "177/177 [==============================] - 0s 2ms/step - loss: 0.4118 - accuracy: 0.8596 - auc: 0.9470\n",
            "Epoch 56/100\n",
            "177/177 [==============================] - 0s 2ms/step - loss: 0.4093 - accuracy: 0.8692 - auc: 0.9472\n",
            "Epoch 57/100\n",
            "177/177 [==============================] - 0s 2ms/step - loss: 0.4249 - accuracy: 0.8484 - auc: 0.9436\n",
            "Epoch 58/100\n",
            "177/177 [==============================] - 0s 2ms/step - loss: 0.3980 - accuracy: 0.8641 - auc: 0.9505\n",
            "Epoch 59/100\n",
            "177/177 [==============================] - 0s 2ms/step - loss: 0.4054 - accuracy: 0.8635 - auc: 0.9479\n",
            "Epoch 60/100\n",
            "177/177 [==============================] - 0s 2ms/step - loss: 0.4024 - accuracy: 0.8721 - auc: 0.9484\n",
            "Epoch 61/100\n",
            "177/177 [==============================] - 0s 2ms/step - loss: 0.4155 - accuracy: 0.8483 - auc: 0.9479\n",
            "Epoch 62/100\n",
            "177/177 [==============================] - 0s 2ms/step - loss: 0.3872 - accuracy: 0.8764 - auc: 0.9511\n",
            "Epoch 63/100\n",
            "177/177 [==============================] - 0s 2ms/step - loss: 0.3942 - accuracy: 0.8659 - auc: 0.9497\n",
            "Epoch 64/100\n",
            "177/177 [==============================] - 0s 2ms/step - loss: 0.3846 - accuracy: 0.8820 - auc: 0.9546\n",
            "Epoch 65/100\n",
            "177/177 [==============================] - 0s 2ms/step - loss: 0.3836 - accuracy: 0.8704 - auc: 0.9519\n",
            "Epoch 66/100\n",
            "177/177 [==============================] - 0s 2ms/step - loss: 0.3875 - accuracy: 0.8713 - auc: 0.9538\n",
            "Epoch 67/100\n",
            "177/177 [==============================] - 0s 2ms/step - loss: 0.4115 - accuracy: 0.8598 - auc: 0.9465\n",
            "Epoch 68/100\n",
            "177/177 [==============================] - 0s 2ms/step - loss: 0.3849 - accuracy: 0.8704 - auc: 0.9531\n",
            "Epoch 69/100\n",
            "177/177 [==============================] - 0s 2ms/step - loss: 0.3545 - accuracy: 0.8809 - auc: 0.9582\n",
            "Epoch 70/100\n",
            "177/177 [==============================] - 0s 2ms/step - loss: 0.3603 - accuracy: 0.8836 - auc: 0.9589\n",
            "Epoch 71/100\n",
            "177/177 [==============================] - 0s 2ms/step - loss: 0.4048 - accuracy: 0.8732 - auc: 0.9482\n",
            "Epoch 72/100\n",
            "177/177 [==============================] - 0s 2ms/step - loss: 0.3574 - accuracy: 0.8826 - auc: 0.9578\n",
            "Epoch 73/100\n",
            "177/177 [==============================] - 0s 2ms/step - loss: 0.3478 - accuracy: 0.8917 - auc: 0.9586\n",
            "Epoch 74/100\n",
            "177/177 [==============================] - 0s 2ms/step - loss: 0.3635 - accuracy: 0.8860 - auc: 0.9583\n",
            "Epoch 75/100\n",
            "177/177 [==============================] - 0s 2ms/step - loss: 0.3540 - accuracy: 0.8834 - auc: 0.9590\n",
            "Epoch 76/100\n",
            "177/177 [==============================] - 0s 2ms/step - loss: 0.3495 - accuracy: 0.8836 - auc: 0.9609\n",
            "Epoch 77/100\n",
            "177/177 [==============================] - 0s 2ms/step - loss: 0.3359 - accuracy: 0.8876 - auc: 0.9626\n",
            "Epoch 78/100\n",
            "177/177 [==============================] - 0s 2ms/step - loss: 0.3354 - accuracy: 0.8941 - auc: 0.9636\n",
            "Epoch 79/100\n",
            "177/177 [==============================] - 0s 2ms/step - loss: 0.3644 - accuracy: 0.8801 - auc: 0.9577\n",
            "Epoch 80/100\n",
            "177/177 [==============================] - 0s 2ms/step - loss: 0.3323 - accuracy: 0.8957 - auc: 0.9638\n",
            "Epoch 81/100\n",
            "177/177 [==============================] - 0s 2ms/step - loss: 0.3563 - accuracy: 0.8776 - auc: 0.9580\n",
            "Epoch 82/100\n",
            "177/177 [==============================] - 0s 2ms/step - loss: 0.3508 - accuracy: 0.8879 - auc: 0.9591\n",
            "Epoch 83/100\n",
            "177/177 [==============================] - 0s 2ms/step - loss: 0.3296 - accuracy: 0.8939 - auc: 0.9645\n",
            "Epoch 84/100\n",
            "177/177 [==============================] - 0s 2ms/step - loss: 0.3235 - accuracy: 0.8916 - auc: 0.9649\n",
            "Epoch 85/100\n",
            "177/177 [==============================] - 0s 2ms/step - loss: 0.3566 - accuracy: 0.8843 - auc: 0.9583\n",
            "Epoch 86/100\n",
            "177/177 [==============================] - 0s 2ms/step - loss: 0.3448 - accuracy: 0.8863 - auc: 0.9626\n",
            "Epoch 87/100\n",
            "177/177 [==============================] - 0s 2ms/step - loss: 0.3208 - accuracy: 0.8930 - auc: 0.9656\n",
            "Epoch 88/100\n",
            "177/177 [==============================] - 0s 2ms/step - loss: 0.3033 - accuracy: 0.8973 - auc: 0.9697\n",
            "Epoch 89/100\n",
            "177/177 [==============================] - 0s 2ms/step - loss: 0.3052 - accuracy: 0.9057 - auc: 0.9690\n",
            "Epoch 90/100\n",
            "177/177 [==============================] - 0s 2ms/step - loss: 0.3069 - accuracy: 0.8990 - auc: 0.9694\n",
            "Epoch 91/100\n",
            "177/177 [==============================] - 0s 2ms/step - loss: 0.3872 - accuracy: 0.8710 - auc: 0.9553\n",
            "Epoch 92/100\n",
            "177/177 [==============================] - 0s 2ms/step - loss: 0.3268 - accuracy: 0.8881 - auc: 0.9666\n",
            "Epoch 93/100\n",
            "177/177 [==============================] - 0s 2ms/step - loss: 0.3938 - accuracy: 0.8618 - auc: 0.9476\n",
            "Epoch 94/100\n",
            "177/177 [==============================] - 0s 2ms/step - loss: 0.2996 - accuracy: 0.9024 - auc: 0.9700\n",
            "Epoch 95/100\n",
            "177/177 [==============================] - 0s 2ms/step - loss: 0.3058 - accuracy: 0.8991 - auc: 0.9689\n",
            "Epoch 96/100\n",
            "177/177 [==============================] - 0s 2ms/step - loss: 0.3124 - accuracy: 0.9000 - auc: 0.9685\n",
            "Epoch 97/100\n",
            "177/177 [==============================] - 0s 2ms/step - loss: 0.2989 - accuracy: 0.8987 - auc: 0.9707\n",
            "Epoch 98/100\n",
            "177/177 [==============================] - 0s 2ms/step - loss: 0.3137 - accuracy: 0.8981 - auc: 0.9685\n",
            "Epoch 99/100\n",
            "177/177 [==============================] - 0s 2ms/step - loss: 0.2949 - accuracy: 0.9013 - auc: 0.9710\n",
            "Epoch 100/100\n",
            "177/177 [==============================] - 0s 2ms/step - loss: 0.3277 - accuracy: 0.8887 - auc: 0.9669\n"
          ],
          "name": "stdout"
        },
        {
          "output_type": "execute_result",
          "data": {
            "text/plain": [
              "<tensorflow.python.keras.callbacks.History at 0x7f2dc8313cd0>"
            ]
          },
          "metadata": {
            "tags": []
          },
          "execution_count": 38
        }
      ]
    },
    {
      "cell_type": "code",
      "metadata": {
        "colab": {
          "base_uri": "https://localhost:8080/"
        },
        "id": "qAJnBytZnj5E",
        "outputId": "d48bd41a-87c2-4b6e-bff4-c0f15e4f1cfc"
      },
      "source": [
        "nn_model.evaluate(X_test, Y_test)[0]"
      ],
      "execution_count": 39,
      "outputs": [
        {
          "output_type": "stream",
          "text": [
            "45/45 [==============================] - 0s 1ms/step - loss: 1.1608 - accuracy: 0.7530 - auc: 0.7744\n"
          ],
          "name": "stdout"
        },
        {
          "output_type": "execute_result",
          "data": {
            "text/plain": [
              "1.1607694625854492"
            ]
          },
          "metadata": {
            "tags": []
          },
          "execution_count": 39
        }
      ]
    },
    {
      "cell_type": "markdown",
      "metadata": {
        "id": "Z-lmTayYy5wK"
      },
      "source": [
        "## Support Vector Machine\n",
        "\n",
        "The next algorithm I will test is the support vector machine. I will begin by creating a baseline model, with the default hyperparameters set by sklearn. "
      ]
    },
    {
      "cell_type": "code",
      "metadata": {
        "id": "eKk9rJ7nqiws",
        "colab": {
          "base_uri": "https://localhost:8080/"
        },
        "outputId": "34cbc6d8-aff3-4d68-b191-a36406b0d34d"
      },
      "source": [
        "svm_model = SVC()\n",
        "svm_model.fit(X_train, Y_train)"
      ],
      "execution_count": 40,
      "outputs": [
        {
          "output_type": "execute_result",
          "data": {
            "text/plain": [
              "SVC(C=1.0, break_ties=False, cache_size=200, class_weight=None, coef0=0.0,\n",
              "    decision_function_shape='ovr', degree=3, gamma='scale', kernel='rbf',\n",
              "    max_iter=-1, probability=False, random_state=None, shrinking=True,\n",
              "    tol=0.001, verbose=False)"
            ]
          },
          "metadata": {
            "tags": []
          },
          "execution_count": 40
        }
      ]
    },
    {
      "cell_type": "code",
      "metadata": {
        "colab": {
          "base_uri": "https://localhost:8080/"
        },
        "id": "A5jFEgbpzIHc",
        "outputId": "432eacc3-275f-48ab-9be5-5fbd0955b684"
      },
      "source": [
        "Y_pred = svm_model.predict(X_test)\n",
        "\n",
        "svm_accuracy = accuracy_score(Y_test, Y_pred)\n",
        "svm_roc = roc_auc_score(Y_test, Y_pred)\n",
        "\n",
        "print(\"baseline support vector machine accuracy:\", svm_accuracy)\n",
        "print(\"baseline support vector machine roc score:\", svm_roc)"
      ],
      "execution_count": 41,
      "outputs": [
        {
          "output_type": "stream",
          "text": [
            "baseline support vector machine accuracy: 0.8069552874378992\n",
            "baseline support vector machine roc score: 0.7083956390187793\n"
          ],
          "name": "stdout"
        }
      ]
    },
    {
      "cell_type": "markdown",
      "metadata": {
        "id": "5k0_1NJYXb7B"
      },
      "source": [
        "These metrics provide a base on which we can improve upon. In order to get better results, I will test out various hyperparameters by performing a grid search."
      ]
    },
    {
      "cell_type": "code",
      "metadata": {
        "colab": {
          "base_uri": "https://localhost:8080/"
        },
        "id": "T-BorEqb0OtA",
        "outputId": "31b71f99-35f4-4cab-ded4-35ef47d7e600"
      },
      "source": [
        "param_grid = {'C': [0.1, 1, 10, 100],  \n",
        "              'gamma': [1, 0.1, 0.01, 0.001], \n",
        "              'kernel': ['rbf', 'sigmoid', 'linear'],\n",
        "              'class_weight': ['balanced']}  \n",
        "  \n",
        "grid = GridSearchCV(SVC(), param_grid, refit = True, verbose=3)   \n",
        "grid.fit(X_train, Y_train) "
      ],
      "execution_count": 42,
      "outputs": [
        {
          "output_type": "stream",
          "text": [
            "Fitting 5 folds for each of 48 candidates, totalling 240 fits\n",
            "[CV] C=0.1, class_weight=balanced, gamma=1, kernel=rbf ...............\n"
          ],
          "name": "stdout"
        },
        {
          "output_type": "stream",
          "text": [
            "[Parallel(n_jobs=1)]: Using backend SequentialBackend with 1 concurrent workers.\n"
          ],
          "name": "stderr"
        },
        {
          "output_type": "stream",
          "text": [
            "[CV]  C=0.1, class_weight=balanced, gamma=1, kernel=rbf, score=0.795, total=   1.9s\n",
            "[CV] C=0.1, class_weight=balanced, gamma=1, kernel=rbf ...............\n"
          ],
          "name": "stdout"
        },
        {
          "output_type": "stream",
          "text": [
            "[Parallel(n_jobs=1)]: Done   1 out of   1 | elapsed:    1.9s remaining:    0.0s\n"
          ],
          "name": "stderr"
        },
        {
          "output_type": "stream",
          "text": [
            "[CV]  C=0.1, class_weight=balanced, gamma=1, kernel=rbf, score=0.799, total=   1.9s\n",
            "[CV] C=0.1, class_weight=balanced, gamma=1, kernel=rbf ...............\n"
          ],
          "name": "stdout"
        },
        {
          "output_type": "stream",
          "text": [
            "[Parallel(n_jobs=1)]: Done   2 out of   2 | elapsed:    3.8s remaining:    0.0s\n"
          ],
          "name": "stderr"
        },
        {
          "output_type": "stream",
          "text": [
            "[CV]  C=0.1, class_weight=balanced, gamma=1, kernel=rbf, score=0.780, total=   1.9s\n",
            "[CV] C=0.1, class_weight=balanced, gamma=1, kernel=rbf ...............\n",
            "[CV]  C=0.1, class_weight=balanced, gamma=1, kernel=rbf, score=0.788, total=   1.9s\n",
            "[CV] C=0.1, class_weight=balanced, gamma=1, kernel=rbf ...............\n",
            "[CV]  C=0.1, class_weight=balanced, gamma=1, kernel=rbf, score=0.777, total=   1.9s\n",
            "[CV] C=0.1, class_weight=balanced, gamma=1, kernel=sigmoid ...........\n",
            "[CV]  C=0.1, class_weight=balanced, gamma=1, kernel=sigmoid, score=0.623, total=   1.0s\n",
            "[CV] C=0.1, class_weight=balanced, gamma=1, kernel=sigmoid ...........\n",
            "[CV]  C=0.1, class_weight=balanced, gamma=1, kernel=sigmoid, score=0.468, total=   1.4s\n",
            "[CV] C=0.1, class_weight=balanced, gamma=1, kernel=sigmoid ...........\n",
            "[CV]  C=0.1, class_weight=balanced, gamma=1, kernel=sigmoid, score=0.622, total=   1.0s\n",
            "[CV] C=0.1, class_weight=balanced, gamma=1, kernel=sigmoid ...........\n",
            "[CV]  C=0.1, class_weight=balanced, gamma=1, kernel=sigmoid, score=0.457, total=   1.5s\n",
            "[CV] C=0.1, class_weight=balanced, gamma=1, kernel=sigmoid ...........\n",
            "[CV]  C=0.1, class_weight=balanced, gamma=1, kernel=sigmoid, score=0.483, total=   1.4s\n",
            "[CV] C=0.1, class_weight=balanced, gamma=1, kernel=linear ............\n",
            "[CV]  C=0.1, class_weight=balanced, gamma=1, kernel=linear, score=0.723, total=   0.7s\n",
            "[CV] C=0.1, class_weight=balanced, gamma=1, kernel=linear ............\n",
            "[CV]  C=0.1, class_weight=balanced, gamma=1, kernel=linear, score=0.681, total=   0.9s\n",
            "[CV] C=0.1, class_weight=balanced, gamma=1, kernel=linear ............\n",
            "[CV]  C=0.1, class_weight=balanced, gamma=1, kernel=linear, score=0.697, total=   0.8s\n",
            "[CV] C=0.1, class_weight=balanced, gamma=1, kernel=linear ............\n",
            "[CV]  C=0.1, class_weight=balanced, gamma=1, kernel=linear, score=0.694, total=   0.8s\n",
            "[CV] C=0.1, class_weight=balanced, gamma=1, kernel=linear ............\n",
            "[CV]  C=0.1, class_weight=balanced, gamma=1, kernel=linear, score=0.718, total=   0.7s\n",
            "[CV] C=0.1, class_weight=balanced, gamma=0.1, kernel=rbf .............\n",
            "[CV]  C=0.1, class_weight=balanced, gamma=0.1, kernel=rbf, score=0.755, total=   1.3s\n",
            "[CV] C=0.1, class_weight=balanced, gamma=0.1, kernel=rbf .............\n",
            "[CV]  C=0.1, class_weight=balanced, gamma=0.1, kernel=rbf, score=0.723, total=   1.3s\n",
            "[CV] C=0.1, class_weight=balanced, gamma=0.1, kernel=rbf .............\n",
            "[CV]  C=0.1, class_weight=balanced, gamma=0.1, kernel=rbf, score=0.736, total=   1.3s\n",
            "[CV] C=0.1, class_weight=balanced, gamma=0.1, kernel=rbf .............\n",
            "[CV]  C=0.1, class_weight=balanced, gamma=0.1, kernel=rbf, score=0.745, total=   1.3s\n",
            "[CV] C=0.1, class_weight=balanced, gamma=0.1, kernel=rbf .............\n",
            "[CV]  C=0.1, class_weight=balanced, gamma=0.1, kernel=rbf, score=0.734, total=   1.3s\n",
            "[CV] C=0.1, class_weight=balanced, gamma=0.1, kernel=sigmoid .........\n",
            "[CV]  C=0.1, class_weight=balanced, gamma=0.1, kernel=sigmoid, score=0.697, total=   1.4s\n",
            "[CV] C=0.1, class_weight=balanced, gamma=0.1, kernel=sigmoid .........\n",
            "[CV]  C=0.1, class_weight=balanced, gamma=0.1, kernel=sigmoid, score=0.693, total=   1.3s\n",
            "[CV] C=0.1, class_weight=balanced, gamma=0.1, kernel=sigmoid .........\n",
            "[CV]  C=0.1, class_weight=balanced, gamma=0.1, kernel=sigmoid, score=0.709, total=   1.3s\n",
            "[CV] C=0.1, class_weight=balanced, gamma=0.1, kernel=sigmoid .........\n",
            "[CV]  C=0.1, class_weight=balanced, gamma=0.1, kernel=sigmoid, score=0.714, total=   1.3s\n",
            "[CV] C=0.1, class_weight=balanced, gamma=0.1, kernel=sigmoid .........\n",
            "[CV]  C=0.1, class_weight=balanced, gamma=0.1, kernel=sigmoid, score=0.689, total=   1.5s\n",
            "[CV] C=0.1, class_weight=balanced, gamma=0.1, kernel=linear ..........\n",
            "[CV]  C=0.1, class_weight=balanced, gamma=0.1, kernel=linear, score=0.723, total=   0.8s\n",
            "[CV] C=0.1, class_weight=balanced, gamma=0.1, kernel=linear ..........\n",
            "[CV]  C=0.1, class_weight=balanced, gamma=0.1, kernel=linear, score=0.681, total=   0.9s\n",
            "[CV] C=0.1, class_weight=balanced, gamma=0.1, kernel=linear ..........\n",
            "[CV]  C=0.1, class_weight=balanced, gamma=0.1, kernel=linear, score=0.697, total=   0.8s\n",
            "[CV] C=0.1, class_weight=balanced, gamma=0.1, kernel=linear ..........\n",
            "[CV]  C=0.1, class_weight=balanced, gamma=0.1, kernel=linear, score=0.694, total=   0.8s\n",
            "[CV] C=0.1, class_weight=balanced, gamma=0.1, kernel=linear ..........\n",
            "[CV]  C=0.1, class_weight=balanced, gamma=0.1, kernel=linear, score=0.718, total=   0.7s\n",
            "[CV] C=0.1, class_weight=balanced, gamma=0.01, kernel=rbf ............\n",
            "[CV]  C=0.1, class_weight=balanced, gamma=0.01, kernel=rbf, score=0.746, total=   1.4s\n",
            "[CV] C=0.1, class_weight=balanced, gamma=0.01, kernel=rbf ............\n",
            "[CV]  C=0.1, class_weight=balanced, gamma=0.01, kernel=rbf, score=0.713, total=   1.4s\n",
            "[CV] C=0.1, class_weight=balanced, gamma=0.01, kernel=rbf ............\n",
            "[CV]  C=0.1, class_weight=balanced, gamma=0.01, kernel=rbf, score=0.729, total=   1.4s\n",
            "[CV] C=0.1, class_weight=balanced, gamma=0.01, kernel=rbf ............\n",
            "[CV]  C=0.1, class_weight=balanced, gamma=0.01, kernel=rbf, score=0.730, total=   1.4s\n",
            "[CV] C=0.1, class_weight=balanced, gamma=0.01, kernel=rbf ............\n",
            "[CV]  C=0.1, class_weight=balanced, gamma=0.01, kernel=rbf, score=0.730, total=   1.4s\n",
            "[CV] C=0.1, class_weight=balanced, gamma=0.01, kernel=sigmoid ........\n",
            "[CV]  C=0.1, class_weight=balanced, gamma=0.01, kernel=sigmoid, score=0.745, total=   1.4s\n",
            "[CV] C=0.1, class_weight=balanced, gamma=0.01, kernel=sigmoid ........\n",
            "[CV]  C=0.1, class_weight=balanced, gamma=0.01, kernel=sigmoid, score=0.713, total=   1.4s\n",
            "[CV] C=0.1, class_weight=balanced, gamma=0.01, kernel=sigmoid ........\n",
            "[CV]  C=0.1, class_weight=balanced, gamma=0.01, kernel=sigmoid, score=0.736, total=   1.4s\n",
            "[CV] C=0.1, class_weight=balanced, gamma=0.01, kernel=sigmoid ........\n",
            "[CV]  C=0.1, class_weight=balanced, gamma=0.01, kernel=sigmoid, score=0.719, total=   1.5s\n",
            "[CV] C=0.1, class_weight=balanced, gamma=0.01, kernel=sigmoid ........\n",
            "[CV]  C=0.1, class_weight=balanced, gamma=0.01, kernel=sigmoid, score=0.724, total=   1.4s\n",
            "[CV] C=0.1, class_weight=balanced, gamma=0.01, kernel=linear .........\n",
            "[CV]  C=0.1, class_weight=balanced, gamma=0.01, kernel=linear, score=0.723, total=   0.8s\n",
            "[CV] C=0.1, class_weight=balanced, gamma=0.01, kernel=linear .........\n",
            "[CV]  C=0.1, class_weight=balanced, gamma=0.01, kernel=linear, score=0.681, total=   0.9s\n",
            "[CV] C=0.1, class_weight=balanced, gamma=0.01, kernel=linear .........\n",
            "[CV]  C=0.1, class_weight=balanced, gamma=0.01, kernel=linear, score=0.697, total=   0.8s\n",
            "[CV] C=0.1, class_weight=balanced, gamma=0.01, kernel=linear .........\n",
            "[CV]  C=0.1, class_weight=balanced, gamma=0.01, kernel=linear, score=0.694, total=   0.7s\n",
            "[CV] C=0.1, class_weight=balanced, gamma=0.01, kernel=linear .........\n",
            "[CV]  C=0.1, class_weight=balanced, gamma=0.01, kernel=linear, score=0.718, total=   0.7s\n",
            "[CV] C=0.1, class_weight=balanced, gamma=0.001, kernel=rbf ...........\n",
            "[CV]  C=0.1, class_weight=balanced, gamma=0.001, kernel=rbf, score=0.721, total=   1.9s\n",
            "[CV] C=0.1, class_weight=balanced, gamma=0.001, kernel=rbf ...........\n",
            "[CV]  C=0.1, class_weight=balanced, gamma=0.001, kernel=rbf, score=0.677, total=   1.9s\n",
            "[CV] C=0.1, class_weight=balanced, gamma=0.001, kernel=rbf ...........\n",
            "[CV]  C=0.1, class_weight=balanced, gamma=0.001, kernel=rbf, score=0.706, total=   1.9s\n",
            "[CV] C=0.1, class_weight=balanced, gamma=0.001, kernel=rbf ...........\n",
            "[CV]  C=0.1, class_weight=balanced, gamma=0.001, kernel=rbf, score=0.691, total=   1.9s\n",
            "[CV] C=0.1, class_weight=balanced, gamma=0.001, kernel=rbf ...........\n",
            "[CV]  C=0.1, class_weight=balanced, gamma=0.001, kernel=rbf, score=0.668, total=   1.9s\n",
            "[CV] C=0.1, class_weight=balanced, gamma=0.001, kernel=sigmoid .......\n",
            "[CV]  C=0.1, class_weight=balanced, gamma=0.001, kernel=sigmoid, score=0.800, total=   1.9s\n",
            "[CV] C=0.1, class_weight=balanced, gamma=0.001, kernel=sigmoid .......\n",
            "[CV]  C=0.1, class_weight=balanced, gamma=0.001, kernel=sigmoid, score=0.800, total=   1.9s\n",
            "[CV] C=0.1, class_weight=balanced, gamma=0.001, kernel=sigmoid .......\n",
            "[CV]  C=0.1, class_weight=balanced, gamma=0.001, kernel=sigmoid, score=0.788, total=   1.9s\n",
            "[CV] C=0.1, class_weight=balanced, gamma=0.001, kernel=sigmoid .......\n",
            "[CV]  C=0.1, class_weight=balanced, gamma=0.001, kernel=sigmoid, score=0.790, total=   1.9s\n",
            "[CV] C=0.1, class_weight=balanced, gamma=0.001, kernel=sigmoid .......\n",
            "[CV]  C=0.1, class_weight=balanced, gamma=0.001, kernel=sigmoid, score=0.765, total=   1.9s\n",
            "[CV] C=0.1, class_weight=balanced, gamma=0.001, kernel=linear ........\n",
            "[CV]  C=0.1, class_weight=balanced, gamma=0.001, kernel=linear, score=0.723, total=   0.8s\n",
            "[CV] C=0.1, class_weight=balanced, gamma=0.001, kernel=linear ........\n",
            "[CV]  C=0.1, class_weight=balanced, gamma=0.001, kernel=linear, score=0.681, total=   0.9s\n",
            "[CV] C=0.1, class_weight=balanced, gamma=0.001, kernel=linear ........\n",
            "[CV]  C=0.1, class_weight=balanced, gamma=0.001, kernel=linear, score=0.697, total=   0.8s\n",
            "[CV] C=0.1, class_weight=balanced, gamma=0.001, kernel=linear ........\n",
            "[CV]  C=0.1, class_weight=balanced, gamma=0.001, kernel=linear, score=0.694, total=   0.8s\n",
            "[CV] C=0.1, class_weight=balanced, gamma=0.001, kernel=linear ........\n",
            "[CV]  C=0.1, class_weight=balanced, gamma=0.001, kernel=linear, score=0.718, total=   0.7s\n",
            "[CV] C=1, class_weight=balanced, gamma=1, kernel=rbf .................\n",
            "[CV]  C=1, class_weight=balanced, gamma=1, kernel=rbf, score=0.776, total=   2.0s\n",
            "[CV] C=1, class_weight=balanced, gamma=1, kernel=rbf .................\n",
            "[CV]  C=1, class_weight=balanced, gamma=1, kernel=rbf, score=0.775, total=   2.0s\n",
            "[CV] C=1, class_weight=balanced, gamma=1, kernel=rbf .................\n",
            "[CV]  C=1, class_weight=balanced, gamma=1, kernel=rbf, score=0.770, total=   1.9s\n",
            "[CV] C=1, class_weight=balanced, gamma=1, kernel=rbf .................\n",
            "[CV]  C=1, class_weight=balanced, gamma=1, kernel=rbf, score=0.761, total=   2.0s\n",
            "[CV] C=1, class_weight=balanced, gamma=1, kernel=rbf .................\n",
            "[CV]  C=1, class_weight=balanced, gamma=1, kernel=rbf, score=0.748, total=   2.0s\n",
            "[CV] C=1, class_weight=balanced, gamma=1, kernel=sigmoid .............\n",
            "[CV]  C=1, class_weight=balanced, gamma=1, kernel=sigmoid, score=0.622, total=   1.0s\n",
            "[CV] C=1, class_weight=balanced, gamma=1, kernel=sigmoid .............\n",
            "[CV]  C=1, class_weight=balanced, gamma=1, kernel=sigmoid, score=0.468, total=   1.4s\n",
            "[CV] C=1, class_weight=balanced, gamma=1, kernel=sigmoid .............\n",
            "[CV]  C=1, class_weight=balanced, gamma=1, kernel=sigmoid, score=0.480, total=   1.6s\n",
            "[CV] C=1, class_weight=balanced, gamma=1, kernel=sigmoid .............\n",
            "[CV]  C=1, class_weight=balanced, gamma=1, kernel=sigmoid, score=0.455, total=   1.5s\n",
            "[CV] C=1, class_weight=balanced, gamma=1, kernel=sigmoid .............\n",
            "[CV]  C=1, class_weight=balanced, gamma=1, kernel=sigmoid, score=0.480, total=   1.4s\n",
            "[CV] C=1, class_weight=balanced, gamma=1, kernel=linear ..............\n",
            "[CV]  C=1, class_weight=balanced, gamma=1, kernel=linear, score=0.716, total=   1.0s\n",
            "[CV] C=1, class_weight=balanced, gamma=1, kernel=linear ..............\n",
            "[CV]  C=1, class_weight=balanced, gamma=1, kernel=linear, score=0.681, total=   0.8s\n",
            "[CV] C=1, class_weight=balanced, gamma=1, kernel=linear ..............\n",
            "[CV]  C=1, class_weight=balanced, gamma=1, kernel=linear, score=0.697, total=   0.9s\n",
            "[CV] C=1, class_weight=balanced, gamma=1, kernel=linear ..............\n",
            "[CV]  C=1, class_weight=balanced, gamma=1, kernel=linear, score=0.694, total=   0.9s\n",
            "[CV] C=1, class_weight=balanced, gamma=1, kernel=linear ..............\n",
            "[CV]  C=1, class_weight=balanced, gamma=1, kernel=linear, score=0.718, total=   0.9s\n",
            "[CV] C=1, class_weight=balanced, gamma=0.1, kernel=rbf ...............\n",
            "[CV]  C=1, class_weight=balanced, gamma=0.1, kernel=rbf, score=0.757, total=   1.3s\n",
            "[CV] C=1, class_weight=balanced, gamma=0.1, kernel=rbf ...............\n",
            "[CV]  C=1, class_weight=balanced, gamma=0.1, kernel=rbf, score=0.744, total=   1.2s\n",
            "[CV] C=1, class_weight=balanced, gamma=0.1, kernel=rbf ...............\n",
            "[CV]  C=1, class_weight=balanced, gamma=0.1, kernel=rbf, score=0.736, total=   1.2s\n",
            "[CV] C=1, class_weight=balanced, gamma=0.1, kernel=rbf ...............\n",
            "[CV]  C=1, class_weight=balanced, gamma=0.1, kernel=rbf, score=0.749, total=   1.3s\n",
            "[CV] C=1, class_weight=balanced, gamma=0.1, kernel=rbf ...............\n",
            "[CV]  C=1, class_weight=balanced, gamma=0.1, kernel=rbf, score=0.737, total=   1.2s\n",
            "[CV] C=1, class_weight=balanced, gamma=0.1, kernel=sigmoid ...........\n",
            "[CV]  C=1, class_weight=balanced, gamma=0.1, kernel=sigmoid, score=0.651, total=   0.9s\n",
            "[CV] C=1, class_weight=balanced, gamma=0.1, kernel=sigmoid ...........\n",
            "[CV]  C=1, class_weight=balanced, gamma=0.1, kernel=sigmoid, score=0.654, total=   0.9s\n",
            "[CV] C=1, class_weight=balanced, gamma=0.1, kernel=sigmoid ...........\n",
            "[CV]  C=1, class_weight=balanced, gamma=0.1, kernel=sigmoid, score=0.657, total=   0.9s\n",
            "[CV] C=1, class_weight=balanced, gamma=0.1, kernel=sigmoid ...........\n",
            "[CV]  C=1, class_weight=balanced, gamma=0.1, kernel=sigmoid, score=0.671, total=   0.9s\n",
            "[CV] C=1, class_weight=balanced, gamma=0.1, kernel=sigmoid ...........\n",
            "[CV]  C=1, class_weight=balanced, gamma=0.1, kernel=sigmoid, score=0.660, total=   0.9s\n",
            "[CV] C=1, class_weight=balanced, gamma=0.1, kernel=linear ............\n",
            "[CV]  C=1, class_weight=balanced, gamma=0.1, kernel=linear, score=0.716, total=   1.0s\n",
            "[CV] C=1, class_weight=balanced, gamma=0.1, kernel=linear ............\n",
            "[CV]  C=1, class_weight=balanced, gamma=0.1, kernel=linear, score=0.681, total=   0.8s\n",
            "[CV] C=1, class_weight=balanced, gamma=0.1, kernel=linear ............\n",
            "[CV]  C=1, class_weight=balanced, gamma=0.1, kernel=linear, score=0.697, total=   0.9s\n",
            "[CV] C=1, class_weight=balanced, gamma=0.1, kernel=linear ............\n",
            "[CV]  C=1, class_weight=balanced, gamma=0.1, kernel=linear, score=0.694, total=   1.0s\n",
            "[CV] C=1, class_weight=balanced, gamma=0.1, kernel=linear ............\n",
            "[CV]  C=1, class_weight=balanced, gamma=0.1, kernel=linear, score=0.718, total=   0.9s\n",
            "[CV] C=1, class_weight=balanced, gamma=0.01, kernel=rbf ..............\n",
            "[CV]  C=1, class_weight=balanced, gamma=0.01, kernel=rbf, score=0.748, total=   1.3s\n",
            "[CV] C=1, class_weight=balanced, gamma=0.01, kernel=rbf ..............\n",
            "[CV]  C=1, class_weight=balanced, gamma=0.01, kernel=rbf, score=0.689, total=   1.2s\n",
            "[CV] C=1, class_weight=balanced, gamma=0.01, kernel=rbf ..............\n",
            "[CV]  C=1, class_weight=balanced, gamma=0.01, kernel=rbf, score=0.718, total=   1.3s\n",
            "[CV] C=1, class_weight=balanced, gamma=0.01, kernel=rbf ..............\n",
            "[CV]  C=1, class_weight=balanced, gamma=0.01, kernel=rbf, score=0.722, total=   1.3s\n",
            "[CV] C=1, class_weight=balanced, gamma=0.01, kernel=rbf ..............\n",
            "[CV]  C=1, class_weight=balanced, gamma=0.01, kernel=rbf, score=0.723, total=   1.2s\n",
            "[CV] C=1, class_weight=balanced, gamma=0.01, kernel=sigmoid ..........\n",
            "[CV]  C=1, class_weight=balanced, gamma=0.01, kernel=sigmoid, score=0.743, total=   1.2s\n",
            "[CV] C=1, class_weight=balanced, gamma=0.01, kernel=sigmoid ..........\n",
            "[CV]  C=1, class_weight=balanced, gamma=0.01, kernel=sigmoid, score=0.703, total=   1.2s\n",
            "[CV] C=1, class_weight=balanced, gamma=0.01, kernel=sigmoid ..........\n",
            "[CV]  C=1, class_weight=balanced, gamma=0.01, kernel=sigmoid, score=0.720, total=   1.2s\n",
            "[CV] C=1, class_weight=balanced, gamma=0.01, kernel=sigmoid ..........\n",
            "[CV]  C=1, class_weight=balanced, gamma=0.01, kernel=sigmoid, score=0.703, total=   1.2s\n",
            "[CV] C=1, class_weight=balanced, gamma=0.01, kernel=sigmoid ..........\n",
            "[CV]  C=1, class_weight=balanced, gamma=0.01, kernel=sigmoid, score=0.724, total=   1.2s\n",
            "[CV] C=1, class_weight=balanced, gamma=0.01, kernel=linear ...........\n",
            "[CV]  C=1, class_weight=balanced, gamma=0.01, kernel=linear, score=0.716, total=   1.0s\n",
            "[CV] C=1, class_weight=balanced, gamma=0.01, kernel=linear ...........\n",
            "[CV]  C=1, class_weight=balanced, gamma=0.01, kernel=linear, score=0.681, total=   0.8s\n",
            "[CV] C=1, class_weight=balanced, gamma=0.01, kernel=linear ...........\n",
            "[CV]  C=1, class_weight=balanced, gamma=0.01, kernel=linear, score=0.697, total=   0.9s\n",
            "[CV] C=1, class_weight=balanced, gamma=0.01, kernel=linear ...........\n",
            "[CV]  C=1, class_weight=balanced, gamma=0.01, kernel=linear, score=0.694, total=   0.9s\n",
            "[CV] C=1, class_weight=balanced, gamma=0.01, kernel=linear ...........\n",
            "[CV]  C=1, class_weight=balanced, gamma=0.01, kernel=linear, score=0.718, total=   0.9s\n",
            "[CV] C=1, class_weight=balanced, gamma=0.001, kernel=rbf .............\n",
            "[CV]  C=1, class_weight=balanced, gamma=0.001, kernel=rbf, score=0.742, total=   1.4s\n",
            "[CV] C=1, class_weight=balanced, gamma=0.001, kernel=rbf .............\n",
            "[CV]  C=1, class_weight=balanced, gamma=0.001, kernel=rbf, score=0.710, total=   1.4s\n",
            "[CV] C=1, class_weight=balanced, gamma=0.001, kernel=rbf .............\n",
            "[CV]  C=1, class_weight=balanced, gamma=0.001, kernel=rbf, score=0.720, total=   1.4s\n",
            "[CV] C=1, class_weight=balanced, gamma=0.001, kernel=rbf .............\n",
            "[CV]  C=1, class_weight=balanced, gamma=0.001, kernel=rbf, score=0.726, total=   1.4s\n",
            "[CV] C=1, class_weight=balanced, gamma=0.001, kernel=rbf .............\n",
            "[CV]  C=1, class_weight=balanced, gamma=0.001, kernel=rbf, score=0.722, total=   1.4s\n",
            "[CV] C=1, class_weight=balanced, gamma=0.001, kernel=sigmoid .........\n",
            "[CV]  C=1, class_weight=balanced, gamma=0.001, kernel=sigmoid, score=0.746, total=   1.5s\n",
            "[CV] C=1, class_weight=balanced, gamma=0.001, kernel=sigmoid .........\n",
            "[CV]  C=1, class_weight=balanced, gamma=0.001, kernel=sigmoid, score=0.716, total=   1.4s\n",
            "[CV] C=1, class_weight=balanced, gamma=0.001, kernel=sigmoid .........\n",
            "[CV]  C=1, class_weight=balanced, gamma=0.001, kernel=sigmoid, score=0.733, total=   1.4s\n",
            "[CV] C=1, class_weight=balanced, gamma=0.001, kernel=sigmoid .........\n",
            "[CV]  C=1, class_weight=balanced, gamma=0.001, kernel=sigmoid, score=0.720, total=   1.4s\n",
            "[CV] C=1, class_weight=balanced, gamma=0.001, kernel=sigmoid .........\n",
            "[CV]  C=1, class_weight=balanced, gamma=0.001, kernel=sigmoid, score=0.726, total=   1.4s\n",
            "[CV] C=1, class_weight=balanced, gamma=0.001, kernel=linear ..........\n",
            "[CV]  C=1, class_weight=balanced, gamma=0.001, kernel=linear, score=0.716, total=   1.0s\n",
            "[CV] C=1, class_weight=balanced, gamma=0.001, kernel=linear ..........\n",
            "[CV]  C=1, class_weight=balanced, gamma=0.001, kernel=linear, score=0.681, total=   0.8s\n",
            "[CV] C=1, class_weight=balanced, gamma=0.001, kernel=linear ..........\n",
            "[CV]  C=1, class_weight=balanced, gamma=0.001, kernel=linear, score=0.697, total=   0.9s\n",
            "[CV] C=1, class_weight=balanced, gamma=0.001, kernel=linear ..........\n",
            "[CV]  C=1, class_weight=balanced, gamma=0.001, kernel=linear, score=0.694, total=   0.9s\n",
            "[CV] C=1, class_weight=balanced, gamma=0.001, kernel=linear ..........\n",
            "[CV]  C=1, class_weight=balanced, gamma=0.001, kernel=linear, score=0.718, total=   0.9s\n",
            "[CV] C=10, class_weight=balanced, gamma=1, kernel=rbf ................\n",
            "[CV]  C=10, class_weight=balanced, gamma=1, kernel=rbf, score=0.763, total=   2.4s\n",
            "[CV] C=10, class_weight=balanced, gamma=1, kernel=rbf ................\n",
            "[CV]  C=10, class_weight=balanced, gamma=1, kernel=rbf, score=0.762, total=   2.1s\n",
            "[CV] C=10, class_weight=balanced, gamma=1, kernel=rbf ................\n",
            "[CV]  C=10, class_weight=balanced, gamma=1, kernel=rbf, score=0.759, total=   2.2s\n",
            "[CV] C=10, class_weight=balanced, gamma=1, kernel=rbf ................\n",
            "[CV]  C=10, class_weight=balanced, gamma=1, kernel=rbf, score=0.749, total=   2.0s\n",
            "[CV] C=10, class_weight=balanced, gamma=1, kernel=rbf ................\n",
            "[CV]  C=10, class_weight=balanced, gamma=1, kernel=rbf, score=0.732, total=   2.1s\n",
            "[CV] C=10, class_weight=balanced, gamma=1, kernel=sigmoid ............\n",
            "[CV]  C=10, class_weight=balanced, gamma=1, kernel=sigmoid, score=0.622, total=   1.0s\n",
            "[CV] C=10, class_weight=balanced, gamma=1, kernel=sigmoid ............\n",
            "[CV]  C=10, class_weight=balanced, gamma=1, kernel=sigmoid, score=0.466, total=   1.5s\n",
            "[CV] C=10, class_weight=balanced, gamma=1, kernel=sigmoid ............\n",
            "[CV]  C=10, class_weight=balanced, gamma=1, kernel=sigmoid, score=0.480, total=   1.6s\n",
            "[CV] C=10, class_weight=balanced, gamma=1, kernel=sigmoid ............\n",
            "[CV]  C=10, class_weight=balanced, gamma=1, kernel=sigmoid, score=0.455, total=   1.5s\n",
            "[CV] C=10, class_weight=balanced, gamma=1, kernel=sigmoid ............\n",
            "[CV]  C=10, class_weight=balanced, gamma=1, kernel=sigmoid, score=0.480, total=   1.4s\n",
            "[CV] C=10, class_weight=balanced, gamma=1, kernel=linear .............\n",
            "[CV]  C=10, class_weight=balanced, gamma=1, kernel=linear, score=0.716, total=   2.0s\n",
            "[CV] C=10, class_weight=balanced, gamma=1, kernel=linear .............\n",
            "[CV]  C=10, class_weight=balanced, gamma=1, kernel=linear, score=0.681, total=   1.8s\n",
            "[CV] C=10, class_weight=balanced, gamma=1, kernel=linear .............\n",
            "[CV]  C=10, class_weight=balanced, gamma=1, kernel=linear, score=0.697, total=   1.9s\n",
            "[CV] C=10, class_weight=balanced, gamma=1, kernel=linear .............\n",
            "[CV]  C=10, class_weight=balanced, gamma=1, kernel=linear, score=0.694, total=   1.9s\n",
            "[CV] C=10, class_weight=balanced, gamma=1, kernel=linear .............\n",
            "[CV]  C=10, class_weight=balanced, gamma=1, kernel=linear, score=0.717, total=   2.0s\n",
            "[CV] C=10, class_weight=balanced, gamma=0.1, kernel=rbf ..............\n",
            "[CV]  C=10, class_weight=balanced, gamma=0.1, kernel=rbf, score=0.752, total=   1.5s\n",
            "[CV] C=10, class_weight=balanced, gamma=0.1, kernel=rbf ..............\n",
            "[CV]  C=10, class_weight=balanced, gamma=0.1, kernel=rbf, score=0.720, total=   1.4s\n",
            "[CV] C=10, class_weight=balanced, gamma=0.1, kernel=rbf ..............\n",
            "[CV]  C=10, class_weight=balanced, gamma=0.1, kernel=rbf, score=0.736, total=   1.5s\n",
            "[CV] C=10, class_weight=balanced, gamma=0.1, kernel=rbf ..............\n",
            "[CV]  C=10, class_weight=balanced, gamma=0.1, kernel=rbf, score=0.737, total=   1.4s\n",
            "[CV] C=10, class_weight=balanced, gamma=0.1, kernel=rbf ..............\n",
            "[CV]  C=10, class_weight=balanced, gamma=0.1, kernel=rbf, score=0.715, total=   1.5s\n",
            "[CV] C=10, class_weight=balanced, gamma=0.1, kernel=sigmoid ..........\n",
            "[CV]  C=10, class_weight=balanced, gamma=0.1, kernel=sigmoid, score=0.644, total=   0.9s\n",
            "[CV] C=10, class_weight=balanced, gamma=0.1, kernel=sigmoid ..........\n",
            "[CV]  C=10, class_weight=balanced, gamma=0.1, kernel=sigmoid, score=0.643, total=   0.8s\n",
            "[CV] C=10, class_weight=balanced, gamma=0.1, kernel=sigmoid ..........\n",
            "[CV]  C=10, class_weight=balanced, gamma=0.1, kernel=sigmoid, score=0.643, total=   0.9s\n",
            "[CV] C=10, class_weight=balanced, gamma=0.1, kernel=sigmoid ..........\n",
            "[CV]  C=10, class_weight=balanced, gamma=0.1, kernel=sigmoid, score=0.662, total=   0.9s\n",
            "[CV] C=10, class_weight=balanced, gamma=0.1, kernel=sigmoid ..........\n",
            "[CV]  C=10, class_weight=balanced, gamma=0.1, kernel=sigmoid, score=0.657, total=   0.8s\n",
            "[CV] C=10, class_weight=balanced, gamma=0.1, kernel=linear ...........\n",
            "[CV]  C=10, class_weight=balanced, gamma=0.1, kernel=linear, score=0.716, total=   2.0s\n",
            "[CV] C=10, class_weight=balanced, gamma=0.1, kernel=linear ...........\n",
            "[CV]  C=10, class_weight=balanced, gamma=0.1, kernel=linear, score=0.681, total=   1.8s\n",
            "[CV] C=10, class_weight=balanced, gamma=0.1, kernel=linear ...........\n",
            "[CV]  C=10, class_weight=balanced, gamma=0.1, kernel=linear, score=0.697, total=   1.9s\n",
            "[CV] C=10, class_weight=balanced, gamma=0.1, kernel=linear ...........\n",
            "[CV]  C=10, class_weight=balanced, gamma=0.1, kernel=linear, score=0.694, total=   1.9s\n",
            "[CV] C=10, class_weight=balanced, gamma=0.1, kernel=linear ...........\n",
            "[CV]  C=10, class_weight=balanced, gamma=0.1, kernel=linear, score=0.717, total=   2.0s\n",
            "[CV] C=10, class_weight=balanced, gamma=0.01, kernel=rbf .............\n",
            "[CV]  C=10, class_weight=balanced, gamma=0.01, kernel=rbf, score=0.751, total=   1.3s\n",
            "[CV] C=10, class_weight=balanced, gamma=0.01, kernel=rbf .............\n",
            "[CV]  C=10, class_weight=balanced, gamma=0.01, kernel=rbf, score=0.700, total=   1.3s\n",
            "[CV] C=10, class_weight=balanced, gamma=0.01, kernel=rbf .............\n",
            "[CV]  C=10, class_weight=balanced, gamma=0.01, kernel=rbf, score=0.721, total=   1.3s\n",
            "[CV] C=10, class_weight=balanced, gamma=0.01, kernel=rbf .............\n",
            "[CV]  C=10, class_weight=balanced, gamma=0.01, kernel=rbf, score=0.732, total=   1.3s\n",
            "[CV] C=10, class_weight=balanced, gamma=0.01, kernel=rbf .............\n",
            "[CV]  C=10, class_weight=balanced, gamma=0.01, kernel=rbf, score=0.725, total=   1.2s\n",
            "[CV] C=10, class_weight=balanced, gamma=0.01, kernel=sigmoid .........\n",
            "[CV]  C=10, class_weight=balanced, gamma=0.01, kernel=sigmoid, score=0.722, total=   1.2s\n",
            "[CV] C=10, class_weight=balanced, gamma=0.01, kernel=sigmoid .........\n",
            "[CV]  C=10, class_weight=balanced, gamma=0.01, kernel=sigmoid, score=0.681, total=   1.2s\n",
            "[CV] C=10, class_weight=balanced, gamma=0.01, kernel=sigmoid .........\n",
            "[CV]  C=10, class_weight=balanced, gamma=0.01, kernel=sigmoid, score=0.702, total=   1.2s\n",
            "[CV] C=10, class_weight=balanced, gamma=0.01, kernel=sigmoid .........\n",
            "[CV]  C=10, class_weight=balanced, gamma=0.01, kernel=sigmoid, score=0.697, total=   1.2s\n",
            "[CV] C=10, class_weight=balanced, gamma=0.01, kernel=sigmoid .........\n",
            "[CV]  C=10, class_weight=balanced, gamma=0.01, kernel=sigmoid, score=0.721, total=   1.2s\n",
            "[CV] C=10, class_weight=balanced, gamma=0.01, kernel=linear ..........\n",
            "[CV]  C=10, class_weight=balanced, gamma=0.01, kernel=linear, score=0.716, total=   2.0s\n",
            "[CV] C=10, class_weight=balanced, gamma=0.01, kernel=linear ..........\n",
            "[CV]  C=10, class_weight=balanced, gamma=0.01, kernel=linear, score=0.681, total=   1.8s\n",
            "[CV] C=10, class_weight=balanced, gamma=0.01, kernel=linear ..........\n",
            "[CV]  C=10, class_weight=balanced, gamma=0.01, kernel=linear, score=0.697, total=   1.9s\n",
            "[CV] C=10, class_weight=balanced, gamma=0.01, kernel=linear ..........\n",
            "[CV]  C=10, class_weight=balanced, gamma=0.01, kernel=linear, score=0.694, total=   1.9s\n",
            "[CV] C=10, class_weight=balanced, gamma=0.01, kernel=linear ..........\n",
            "[CV]  C=10, class_weight=balanced, gamma=0.01, kernel=linear, score=0.717, total=   2.0s\n",
            "[CV] C=10, class_weight=balanced, gamma=0.001, kernel=rbf ............\n",
            "[CV]  C=10, class_weight=balanced, gamma=0.001, kernel=rbf, score=0.747, total=   1.3s\n",
            "[CV] C=10, class_weight=balanced, gamma=0.001, kernel=rbf ............\n",
            "[CV]  C=10, class_weight=balanced, gamma=0.001, kernel=rbf, score=0.681, total=   1.2s\n",
            "[CV] C=10, class_weight=balanced, gamma=0.001, kernel=rbf ............\n",
            "[CV]  C=10, class_weight=balanced, gamma=0.001, kernel=rbf, score=0.707, total=   1.3s\n",
            "[CV] C=10, class_weight=balanced, gamma=0.001, kernel=rbf ............\n",
            "[CV]  C=10, class_weight=balanced, gamma=0.001, kernel=rbf, score=0.714, total=   1.3s\n",
            "[CV] C=10, class_weight=balanced, gamma=0.001, kernel=rbf ............\n",
            "[CV]  C=10, class_weight=balanced, gamma=0.001, kernel=rbf, score=0.718, total=   1.2s\n",
            "[CV] C=10, class_weight=balanced, gamma=0.001, kernel=sigmoid ........\n",
            "[CV]  C=10, class_weight=balanced, gamma=0.001, kernel=sigmoid, score=0.744, total=   1.2s\n",
            "[CV] C=10, class_weight=balanced, gamma=0.001, kernel=sigmoid ........\n",
            "[CV]  C=10, class_weight=balanced, gamma=0.001, kernel=sigmoid, score=0.703, total=   1.2s\n",
            "[CV] C=10, class_weight=balanced, gamma=0.001, kernel=sigmoid ........\n",
            "[CV]  C=10, class_weight=balanced, gamma=0.001, kernel=sigmoid, score=0.720, total=   1.2s\n",
            "[CV] C=10, class_weight=balanced, gamma=0.001, kernel=sigmoid ........\n",
            "[CV]  C=10, class_weight=balanced, gamma=0.001, kernel=sigmoid, score=0.703, total=   1.2s\n",
            "[CV] C=10, class_weight=balanced, gamma=0.001, kernel=sigmoid ........\n",
            "[CV]  C=10, class_weight=balanced, gamma=0.001, kernel=sigmoid, score=0.723, total=   1.2s\n",
            "[CV] C=10, class_weight=balanced, gamma=0.001, kernel=linear .........\n",
            "[CV]  C=10, class_weight=balanced, gamma=0.001, kernel=linear, score=0.716, total=   2.0s\n",
            "[CV] C=10, class_weight=balanced, gamma=0.001, kernel=linear .........\n",
            "[CV]  C=10, class_weight=balanced, gamma=0.001, kernel=linear, score=0.681, total=   1.8s\n",
            "[CV] C=10, class_weight=balanced, gamma=0.001, kernel=linear .........\n",
            "[CV]  C=10, class_weight=balanced, gamma=0.001, kernel=linear, score=0.697, total=   1.9s\n",
            "[CV] C=10, class_weight=balanced, gamma=0.001, kernel=linear .........\n",
            "[CV]  C=10, class_weight=balanced, gamma=0.001, kernel=linear, score=0.694, total=   1.9s\n",
            "[CV] C=10, class_weight=balanced, gamma=0.001, kernel=linear .........\n",
            "[CV]  C=10, class_weight=balanced, gamma=0.001, kernel=linear, score=0.717, total=   2.0s\n",
            "[CV] C=100, class_weight=balanced, gamma=1, kernel=rbf ...............\n",
            "[CV]  C=100, class_weight=balanced, gamma=1, kernel=rbf, score=0.768, total=   2.2s\n",
            "[CV] C=100, class_weight=balanced, gamma=1, kernel=rbf ...............\n",
            "[CV]  C=100, class_weight=balanced, gamma=1, kernel=rbf, score=0.756, total=   1.9s\n",
            "[CV] C=100, class_weight=balanced, gamma=1, kernel=rbf ...............\n",
            "[CV]  C=100, class_weight=balanced, gamma=1, kernel=rbf, score=0.755, total=   2.3s\n",
            "[CV] C=100, class_weight=balanced, gamma=1, kernel=rbf ...............\n",
            "[CV]  C=100, class_weight=balanced, gamma=1, kernel=rbf, score=0.741, total=   2.4s\n",
            "[CV] C=100, class_weight=balanced, gamma=1, kernel=rbf ...............\n",
            "[CV]  C=100, class_weight=balanced, gamma=1, kernel=rbf, score=0.726, total=   2.7s\n",
            "[CV] C=100, class_weight=balanced, gamma=1, kernel=sigmoid ...........\n",
            "[CV]  C=100, class_weight=balanced, gamma=1, kernel=sigmoid, score=0.622, total=   1.0s\n",
            "[CV] C=100, class_weight=balanced, gamma=1, kernel=sigmoid ...........\n",
            "[CV]  C=100, class_weight=balanced, gamma=1, kernel=sigmoid, score=0.466, total=   1.5s\n",
            "[CV] C=100, class_weight=balanced, gamma=1, kernel=sigmoid ...........\n",
            "[CV]  C=100, class_weight=balanced, gamma=1, kernel=sigmoid, score=0.480, total=   1.6s\n",
            "[CV] C=100, class_weight=balanced, gamma=1, kernel=sigmoid ...........\n",
            "[CV]  C=100, class_weight=balanced, gamma=1, kernel=sigmoid, score=0.455, total=   1.5s\n",
            "[CV] C=100, class_weight=balanced, gamma=1, kernel=sigmoid ...........\n",
            "[CV]  C=100, class_weight=balanced, gamma=1, kernel=sigmoid, score=0.480, total=   1.4s\n",
            "[CV] C=100, class_weight=balanced, gamma=1, kernel=linear ............\n",
            "[CV]  C=100, class_weight=balanced, gamma=1, kernel=linear, score=0.716, total=  17.4s\n",
            "[CV] C=100, class_weight=balanced, gamma=1, kernel=linear ............\n",
            "[CV]  C=100, class_weight=balanced, gamma=1, kernel=linear, score=0.681, total= 2.4min\n",
            "[CV] C=100, class_weight=balanced, gamma=1, kernel=linear ............\n",
            "[CV]  C=100, class_weight=balanced, gamma=1, kernel=linear, score=0.697, total= 1.2min\n",
            "[CV] C=100, class_weight=balanced, gamma=1, kernel=linear ............\n",
            "[CV]  C=100, class_weight=balanced, gamma=1, kernel=linear, score=0.694, total=  50.5s\n",
            "[CV] C=100, class_weight=balanced, gamma=1, kernel=linear ............\n",
            "[CV]  C=100, class_weight=balanced, gamma=1, kernel=linear, score=0.717, total=   8.4s\n",
            "[CV] C=100, class_weight=balanced, gamma=0.1, kernel=rbf .............\n",
            "[CV]  C=100, class_weight=balanced, gamma=0.1, kernel=rbf, score=0.717, total=   2.7s\n",
            "[CV] C=100, class_weight=balanced, gamma=0.1, kernel=rbf .............\n",
            "[CV]  C=100, class_weight=balanced, gamma=0.1, kernel=rbf, score=0.710, total=   2.6s\n",
            "[CV] C=100, class_weight=balanced, gamma=0.1, kernel=rbf .............\n",
            "[CV]  C=100, class_weight=balanced, gamma=0.1, kernel=rbf, score=0.731, total=   2.5s\n",
            "[CV] C=100, class_weight=balanced, gamma=0.1, kernel=rbf .............\n",
            "[CV]  C=100, class_weight=balanced, gamma=0.1, kernel=rbf, score=0.724, total=   2.5s\n",
            "[CV] C=100, class_weight=balanced, gamma=0.1, kernel=rbf .............\n",
            "[CV]  C=100, class_weight=balanced, gamma=0.1, kernel=rbf, score=0.727, total=   2.5s\n",
            "[CV] C=100, class_weight=balanced, gamma=0.1, kernel=sigmoid .........\n",
            "[CV]  C=100, class_weight=balanced, gamma=0.1, kernel=sigmoid, score=0.642, total=   0.8s\n",
            "[CV] C=100, class_weight=balanced, gamma=0.1, kernel=sigmoid .........\n",
            "[CV]  C=100, class_weight=balanced, gamma=0.1, kernel=sigmoid, score=0.642, total=   0.8s\n",
            "[CV] C=100, class_weight=balanced, gamma=0.1, kernel=sigmoid .........\n",
            "[CV]  C=100, class_weight=balanced, gamma=0.1, kernel=sigmoid, score=0.642, total=   0.8s\n",
            "[CV] C=100, class_weight=balanced, gamma=0.1, kernel=sigmoid .........\n",
            "[CV]  C=100, class_weight=balanced, gamma=0.1, kernel=sigmoid, score=0.660, total=   0.9s\n",
            "[CV] C=100, class_weight=balanced, gamma=0.1, kernel=sigmoid .........\n",
            "[CV]  C=100, class_weight=balanced, gamma=0.1, kernel=sigmoid, score=0.657, total=   0.8s\n",
            "[CV] C=100, class_weight=balanced, gamma=0.1, kernel=linear ..........\n",
            "[CV]  C=100, class_weight=balanced, gamma=0.1, kernel=linear, score=0.716, total=  17.4s\n",
            "[CV] C=100, class_weight=balanced, gamma=0.1, kernel=linear ..........\n",
            "[CV]  C=100, class_weight=balanced, gamma=0.1, kernel=linear, score=0.681, total= 2.4min\n",
            "[CV] C=100, class_weight=balanced, gamma=0.1, kernel=linear ..........\n",
            "[CV]  C=100, class_weight=balanced, gamma=0.1, kernel=linear, score=0.697, total= 1.2min\n",
            "[CV] C=100, class_weight=balanced, gamma=0.1, kernel=linear ..........\n",
            "[CV]  C=100, class_weight=balanced, gamma=0.1, kernel=linear, score=0.694, total=  50.6s\n",
            "[CV] C=100, class_weight=balanced, gamma=0.1, kernel=linear ..........\n",
            "[CV]  C=100, class_weight=balanced, gamma=0.1, kernel=linear, score=0.717, total=   8.4s\n",
            "[CV] C=100, class_weight=balanced, gamma=0.01, kernel=rbf ............\n",
            "[CV]  C=100, class_weight=balanced, gamma=0.01, kernel=rbf, score=0.752, total=   1.6s\n",
            "[CV] C=100, class_weight=balanced, gamma=0.01, kernel=rbf ............\n",
            "[CV]  C=100, class_weight=balanced, gamma=0.01, kernel=rbf, score=0.728, total=   1.6s\n",
            "[CV] C=100, class_weight=balanced, gamma=0.01, kernel=rbf ............\n",
            "[CV]  C=100, class_weight=balanced, gamma=0.01, kernel=rbf, score=0.730, total=   1.6s\n",
            "[CV] C=100, class_weight=balanced, gamma=0.01, kernel=rbf ............\n",
            "[CV]  C=100, class_weight=balanced, gamma=0.01, kernel=rbf, score=0.741, total=   1.6s\n",
            "[CV] C=100, class_weight=balanced, gamma=0.01, kernel=rbf ............\n",
            "[CV]  C=100, class_weight=balanced, gamma=0.01, kernel=rbf, score=0.730, total=   1.6s\n",
            "[CV] C=100, class_weight=balanced, gamma=0.01, kernel=sigmoid ........\n",
            "[CV]  C=100, class_weight=balanced, gamma=0.01, kernel=sigmoid, score=0.732, total=   1.1s\n",
            "[CV] C=100, class_weight=balanced, gamma=0.01, kernel=sigmoid ........\n",
            "[CV]  C=100, class_weight=balanced, gamma=0.01, kernel=sigmoid, score=0.713, total=   1.0s\n",
            "[CV] C=100, class_weight=balanced, gamma=0.01, kernel=sigmoid ........\n",
            "[CV]  C=100, class_weight=balanced, gamma=0.01, kernel=sigmoid, score=0.713, total=   1.1s\n",
            "[CV] C=100, class_weight=balanced, gamma=0.01, kernel=sigmoid ........\n",
            "[CV]  C=100, class_weight=balanced, gamma=0.01, kernel=sigmoid, score=0.716, total=   1.1s\n",
            "[CV] C=100, class_weight=balanced, gamma=0.01, kernel=sigmoid ........\n",
            "[CV]  C=100, class_weight=balanced, gamma=0.01, kernel=sigmoid, score=0.717, total=   1.0s\n",
            "[CV] C=100, class_weight=balanced, gamma=0.01, kernel=linear .........\n",
            "[CV]  C=100, class_weight=balanced, gamma=0.01, kernel=linear, score=0.716, total=  17.4s\n",
            "[CV] C=100, class_weight=balanced, gamma=0.01, kernel=linear .........\n",
            "[CV]  C=100, class_weight=balanced, gamma=0.01, kernel=linear, score=0.681, total= 2.4min\n",
            "[CV] C=100, class_weight=balanced, gamma=0.01, kernel=linear .........\n",
            "[CV]  C=100, class_weight=balanced, gamma=0.01, kernel=linear, score=0.697, total= 1.2min\n",
            "[CV] C=100, class_weight=balanced, gamma=0.01, kernel=linear .........\n",
            "[CV]  C=100, class_weight=balanced, gamma=0.01, kernel=linear, score=0.694, total=  50.8s\n",
            "[CV] C=100, class_weight=balanced, gamma=0.01, kernel=linear .........\n",
            "[CV]  C=100, class_weight=balanced, gamma=0.01, kernel=linear, score=0.717, total=   8.5s\n",
            "[CV] C=100, class_weight=balanced, gamma=0.001, kernel=rbf ...........\n",
            "[CV]  C=100, class_weight=balanced, gamma=0.001, kernel=rbf, score=0.740, total=   1.3s\n",
            "[CV] C=100, class_weight=balanced, gamma=0.001, kernel=rbf ...........\n",
            "[CV]  C=100, class_weight=balanced, gamma=0.001, kernel=rbf, score=0.681, total=   1.4s\n",
            "[CV] C=100, class_weight=balanced, gamma=0.001, kernel=rbf ...........\n",
            "[CV]  C=100, class_weight=balanced, gamma=0.001, kernel=rbf, score=0.697, total=   1.3s\n",
            "[CV] C=100, class_weight=balanced, gamma=0.001, kernel=rbf ...........\n",
            "[CV]  C=100, class_weight=balanced, gamma=0.001, kernel=rbf, score=0.695, total=   1.3s\n",
            "[CV] C=100, class_weight=balanced, gamma=0.001, kernel=rbf ...........\n",
            "[CV]  C=100, class_weight=balanced, gamma=0.001, kernel=rbf, score=0.719, total=   1.2s\n",
            "[CV] C=100, class_weight=balanced, gamma=0.001, kernel=sigmoid .......\n",
            "[CV]  C=100, class_weight=balanced, gamma=0.001, kernel=sigmoid, score=0.723, total=   1.2s\n",
            "[CV] C=100, class_weight=balanced, gamma=0.001, kernel=sigmoid .......\n",
            "[CV]  C=100, class_weight=balanced, gamma=0.001, kernel=sigmoid, score=0.681, total=   1.3s\n",
            "[CV] C=100, class_weight=balanced, gamma=0.001, kernel=sigmoid .......\n",
            "[CV]  C=100, class_weight=balanced, gamma=0.001, kernel=sigmoid, score=0.697, total=   1.2s\n",
            "[CV] C=100, class_weight=balanced, gamma=0.001, kernel=sigmoid .......\n",
            "[CV]  C=100, class_weight=balanced, gamma=0.001, kernel=sigmoid, score=0.694, total=   1.2s\n",
            "[CV] C=100, class_weight=balanced, gamma=0.001, kernel=sigmoid .......\n",
            "[CV]  C=100, class_weight=balanced, gamma=0.001, kernel=sigmoid, score=0.718, total=   1.2s\n",
            "[CV] C=100, class_weight=balanced, gamma=0.001, kernel=linear ........\n",
            "[CV]  C=100, class_weight=balanced, gamma=0.001, kernel=linear, score=0.716, total=  17.5s\n",
            "[CV] C=100, class_weight=balanced, gamma=0.001, kernel=linear ........\n",
            "[CV]  C=100, class_weight=balanced, gamma=0.001, kernel=linear, score=0.681, total= 2.4min\n",
            "[CV] C=100, class_weight=balanced, gamma=0.001, kernel=linear ........\n",
            "[CV]  C=100, class_weight=balanced, gamma=0.001, kernel=linear, score=0.697, total= 1.2min\n",
            "[CV] C=100, class_weight=balanced, gamma=0.001, kernel=linear ........\n",
            "[CV]  C=100, class_weight=balanced, gamma=0.001, kernel=linear, score=0.694, total=  50.4s\n",
            "[CV] C=100, class_weight=balanced, gamma=0.001, kernel=linear ........\n",
            "[CV]  C=100, class_weight=balanced, gamma=0.001, kernel=linear, score=0.717, total=   8.4s\n"
          ],
          "name": "stdout"
        },
        {
          "output_type": "stream",
          "text": [
            "[Parallel(n_jobs=1)]: Done 240 out of 240 | elapsed: 24.7min finished\n"
          ],
          "name": "stderr"
        },
        {
          "output_type": "execute_result",
          "data": {
            "text/plain": [
              "GridSearchCV(cv=None, error_score=nan,\n",
              "             estimator=SVC(C=1.0, break_ties=False, cache_size=200,\n",
              "                           class_weight=None, coef0=0.0,\n",
              "                           decision_function_shape='ovr', degree=3,\n",
              "                           gamma='scale', kernel='rbf', max_iter=-1,\n",
              "                           probability=False, random_state=None, shrinking=True,\n",
              "                           tol=0.001, verbose=False),\n",
              "             iid='deprecated', n_jobs=None,\n",
              "             param_grid={'C': [0.1, 1, 10, 100], 'class_weight': ['balanced'],\n",
              "                         'gamma': [1, 0.1, 0.01, 0.001],\n",
              "                         'kernel': ['rbf', 'sigmoid', 'linear']},\n",
              "             pre_dispatch='2*n_jobs', refit=True, return_train_score=False,\n",
              "             scoring=None, verbose=3)"
            ]
          },
          "metadata": {
            "tags": []
          },
          "execution_count": 42
        }
      ]
    },
    {
      "cell_type": "markdown",
      "metadata": {
        "id": "0N0xmc_zxHJA"
      },
      "source": [
        "The following parameters had the best results:"
      ]
    },
    {
      "cell_type": "code",
      "metadata": {
        "colab": {
          "base_uri": "https://localhost:8080/"
        },
        "id": "kNxis5ueXuhE",
        "outputId": "b4fac5fe-5e11-4c27-a504-d77527b08942"
      },
      "source": [
        "print(grid.best_params_) "
      ],
      "execution_count": 43,
      "outputs": [
        {
          "output_type": "stream",
          "text": [
            "{'C': 0.1, 'class_weight': 'balanced', 'gamma': 0.001, 'kernel': 'sigmoid'}\n"
          ],
          "name": "stdout"
        }
      ]
    },
    {
      "cell_type": "code",
      "metadata": {
        "colab": {
          "base_uri": "https://localhost:8080/"
        },
        "id": "3ANl-1bVYtMx",
        "outputId": "5957e204-c81d-4754-d4e2-2a8ae625a09d"
      },
      "source": [
        "grid_predictions = grid.predict(X_test) \n",
        "  \n",
        "svm_accuracy = accuracy_score(Y_test, grid_predictions)\n",
        "svm_roc = roc_auc_score(Y_test, grid_predictions)\n",
        "\n",
        "print(\"support vector machine accuracy:\", svm_accuracy)\n",
        "print(\"support vector machine roc:\", svm_roc)"
      ],
      "execution_count": 44,
      "outputs": [
        {
          "output_type": "stream",
          "text": [
            "support vector machine accuracy: 0.6699787083037615\n",
            "support vector machine roc: 0.7359968492910907\n"
          ],
          "name": "stdout"
        }
      ]
    }
  ]
}